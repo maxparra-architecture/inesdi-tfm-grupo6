{
 "cells": [
  {
   "cell_type": "markdown",
   "metadata": {
    "id": "e1p45m_QOJ2Y"
   },
   "source": [
    "![Banner Intro](banner.png)"
   ]
  },
  {
   "cell_type": "markdown",
   "metadata": {
    "id": "TvybiMbcOJ2a"
   },
   "source": [
    "# Tabla de Contenido\n",
    "---\n",
    "1. [Análisis Exploratorio de Datos - EDA](#id1)\n",
    "    1. [Ubicación Geográfica](#id11)\n",
    "    2. [Información General](#id12)\n",
    "    3. [Población Diferencial](#id13)\n",
    "    4. [Tejido Empresarial](#id14)\n",
    "    5. [Panorama Productivo](#id15)\n",
    "    6. [Talento Humano](#id16)\n",
    "    7. [Exportaciones](#id17)\n",
    "    8. [Inversiones](#id18)\n",
    "    9. [Turismo](#id19)"
   ]
  },
  {
   "cell_type": "markdown",
   "metadata": {
    "id": "MnVOnOkROJ2a"
   },
   "source": [
    "# Análisis Exploratorio de Datos - EDA <a name=\"id1\"></a>\n",
    "---"
   ]
  },
  {
   "cell_type": "code",
   "execution_count": null,
   "metadata": {
    "id": "dvvk4b_nOJ2b",
    "outputId": "d76ae178-5f12-4e4a-f638-80b61c74d76c",
    "tags": []
   },
   "outputs": [
    {
     "name": "stdout",
     "output_type": "stream",
     "text": [
      "Requirement already satisfied: folium in /opt/anaconda3/lib/python3.11/site-packages (0.17.0)\n",
      "Requirement already satisfied: branca>=0.6.0 in /opt/anaconda3/lib/python3.11/site-packages (from folium) (0.8.0)\n",
      "Requirement already satisfied: jinja2>=2.9 in /opt/anaconda3/lib/python3.11/site-packages (from folium) (3.1.3)\n",
      "Requirement already satisfied: numpy in /opt/anaconda3/lib/python3.11/site-packages (from folium) (1.26.4)\n",
      "Requirement already satisfied: requests in /opt/anaconda3/lib/python3.11/site-packages (from folium) (2.31.0)\n",
      "Requirement already satisfied: xyzservices in /opt/anaconda3/lib/python3.11/site-packages (from folium) (2022.9.0)\n",
      "Requirement already satisfied: MarkupSafe>=2.0 in /opt/anaconda3/lib/python3.11/site-packages (from jinja2>=2.9->folium) (2.1.3)\n",
      "Requirement already satisfied: charset-normalizer<4,>=2 in /opt/anaconda3/lib/python3.11/site-packages (from requests->folium) (2.0.4)\n",
      "Requirement already satisfied: idna<4,>=2.5 in /opt/anaconda3/lib/python3.11/site-packages (from requests->folium) (3.4)\n",
      "Requirement already satisfied: urllib3<3,>=1.21.1 in /opt/anaconda3/lib/python3.11/site-packages (from requests->folium) (2.0.7)\n",
      "Requirement already satisfied: certifi>=2017.4.17 in /opt/anaconda3/lib/python3.11/site-packages (from requests->folium) (2024.8.30)\n",
      "Note: you may need to restart the kernel to use updated packages.\n"
     ]
    }
   ],
   "source": [
    "pip install folium"
   ]
  },
  {
   "cell_type": "code",
   "execution_count": null,
   "metadata": {
    "id": "AG74i6dBOJ2c",
    "tags": []
   },
   "outputs": [],
   "source": [
    "import pandas as pd\n",
    "import numpy as np\n",
    "import matplotlib.pyplot as plt\n",
    "import seaborn as sns\n",
    "file_path = \"data\""
   ]
  },
  {
   "cell_type": "markdown",
   "metadata": {
    "id": "l_0d3aj_OJ2c"
   },
   "source": [
    "# Ubicación Geográfica <a name=\"id11\"></a>\n",
    "---\n",
    "**Fuente: DIVIPOLA Marzo 2024 del DANE**\n",
    "Se tomó la latitud y longitud de cada municipio de Colombia, disponible en la Codificación de la División Político Administrativa de Colombia - DIVIPOLA Marzo 2024 del DANE."
   ]
  },
  {
   "cell_type": "code",
   "execution_count": null,
   "metadata": {
    "id": "UoSBj-SUOJ2c",
    "outputId": "afcb4a20-c30c-441b-93aa-ae6ac813277c",
    "tags": []
   },
   "outputs": [
    {
     "name": "stdout",
     "output_type": "stream",
     "text": [
      "<class 'pandas.core.frame.DataFrame'>\n",
      "RangeIndex: 1122 entries, 0 to 1121\n",
      "Data columns (total 7 columns):\n",
      " #   Column               Non-Null Count  Dtype  \n",
      "---  ------               --------------  -----  \n",
      " 0   Cod. Departamento    1122 non-null   int64  \n",
      " 1   Nombre Departamento  1122 non-null   object \n",
      " 2   Cod. Municipio       1122 non-null   int64  \n",
      " 3   Nombre Municipio     1122 non-null   object \n",
      " 4   Tipo                 1122 non-null   object \n",
      " 5   LATITUD              1122 non-null   float64\n",
      " 6   LONGITUD             1122 non-null   float64\n",
      "dtypes: float64(2), int64(2), object(3)\n",
      "memory usage: 61.5+ KB\n"
     ]
    },
    {
     "data": {
      "text/plain": [
       "(   Cod. Departamento Nombre Departamento  Cod. Municipio Nombre Municipio  \\\n",
       " 0                  5           ANTIOQUIA            5001         MEDELLÍN   \n",
       " 1                  5           ANTIOQUIA            5002        ABEJORRAL   \n",
       " 2                  5           ANTIOQUIA            5004         ABRIAQUÍ   \n",
       " 3                  5           ANTIOQUIA            5021       ALEJANDRÍA   \n",
       " 4                  5           ANTIOQUIA            5030            AMAGÁ   \n",
       " \n",
       "         Tipo   LATITUD   LONGITUD  \n",
       " 0  Municipio  6.257590 -75.611031  \n",
       " 1  Municipio  5.803728 -75.438474  \n",
       " 2  Municipio  6.627569 -76.085978  \n",
       " 3  Municipio  6.365534 -75.090597  \n",
       " 4  Municipio  6.032922 -75.708003  ,\n",
       " None,\n",
       "        Cod. Departamento  Cod. Municipio      LATITUD     LONGITUD\n",
       " count        1122.000000     1122.000000  1122.000000  1122.000000\n",
       " mean           38.222816    38656.544563     5.603231   -74.641414\n",
       " std            26.538214    26524.369769     2.648580     1.678501\n",
       " min             5.000000     5001.000000    -3.631323   -81.717624\n",
       " 25%            15.000000    15677.250000     4.232039   -75.778075\n",
       " 50%            25.000000    25840.000000     5.530754   -74.731032\n",
       " 75%            66.000000    66452.000000     7.011615   -73.446673\n",
       " max            99.000000    99773.000000    13.351110   -67.001518)"
      ]
     },
     "execution_count": 78,
     "metadata": {},
     "output_type": "execute_result"
    }
   ],
   "source": [
    "ubicacion_df = pd.read_csv(file_path+'/DIVIPOLA_Municipios.csv')\n",
    "ubicacion_df.head(), ubicacion_df.info(), ubicacion_df.describe()"
   ]
  },
  {
   "cell_type": "code",
   "execution_count": null,
   "metadata": {
    "id": "vXZV9Gi_OJ2d",
    "outputId": "41935a6e-5401-48f6-c4f5-d6b4538a5a15",
    "tags": []
   },
   "outputs": [
    {
     "data": {
      "text/html": [
       "\n",
       "        <iframe\n",
       "            width=\"700\"\n",
       "            height=\"500\"\n",
       "            src=\"data/outputs/mapa_municipios_colombia.html\"\n",
       "            frameborder=\"0\"\n",
       "            allowfullscreen\n",
       "            \n",
       "        ></iframe>\n",
       "        "
      ],
      "text/plain": [
       "<IPython.lib.display.IFrame at 0x1667e5490>"
      ]
     },
     "execution_count": 173,
     "metadata": {},
     "output_type": "execute_result"
    }
   ],
   "source": [
    "from IPython.display import IFrame\n",
    "\n",
    "# Geographical Analysis\n",
    "# Create a folium map to visualize the geographic distribution of municipalities\n",
    "mapa_colombia = folium.Map(location=[4.5709, -74.2973], zoom_start=6)\n",
    "\n",
    "# Add points for each municipality based on latitude and longitude\n",
    "for _, row in ubicacion_df.iterrows():\n",
    "    folium.Marker(\n",
    "        location=[row['LATITUD'], row['LONGITUD']],\n",
    "        popup=row['Nombre Municipio'],\n",
    "    ).add_to(mapa_colombia)\n",
    "\n",
    "# Save map to an HTML file\n",
    "mapa_colombia.save(file_path+'/outputs/mapa_municipios_colombia.html')\n",
    "\n",
    "# Embed the map in the Jupyter notebook\n",
    "IFrame(file_path+'/outputs/mapa_municipios_colombia.html', width=700, height=500)"
   ]
  },
  {
   "cell_type": "markdown",
   "metadata": {
    "id": "C2YxUIDsOJ2d"
   },
   "source": [
    "# Información General <a name=\"id12\"></a>\n",
    "---\n",
    "En esta sección, se identificó si el municipio hace parte de los Programas de Desarrollo con Enfoque Territorial (PDET), si pertenece a las Zonas Más Afectadas por el Conflicto Armado (ZOMAC) y el tamaño de su población, con el fin de identificar si es un territorio de menos de 200.000 habitantes.\n",
    "**Fuente: OXI, [Consultoría Obras por Impuestos](https://www.obrasximpuestos.com/)**"
   ]
  },
  {
   "cell_type": "markdown",
   "metadata": {
    "id": "b6nD2F9vOJ2d"
   },
   "source": [
    "## Programas de Desarrollo con Enfoque Territorial (PDET)\n",
    "Son instrumentos de gestión y planificación para priorizar la implementación de los planes sectoriales y programas dentro de la Reforma Rural Integral. Los municipios priorizados para estos programas se encuentran plasmados en la Ley 893 de 2017 y corresponden a 170 municipios considerados como los más afectados por la violencia, la pobreza, las economías ilícitas y la debilidad institucional. Mediante la implementación de la Reforma Rural Integral se buscan sentar las bases para la transformación del campo, generar desarrollo social, reducir los índices de pobreza y crear desarrollo integral de la sociedad mediante proyectos de inversión que generen bienestar para la población. Además existen incentivos tributarios para fomentar el crecimiento económico en dichos territorios.\n",
    "\n",
    "## Zonas Más Afectadas por el Conflicto Armado (ZOMAC)\n",
    "como su nombre lo dice, son un conjunto de municipios que agrupa las zonas del país más afectadas por el conflicto armado. Las empresas ubicadas en estas zonas cuentan con beneficios e incentivos tributarios, los cuales están descritos en los artículos 235 al 237 de la Ley 2819 de 2016 y el Decreto 1650 de 2017."
   ]
  },
  {
   "cell_type": "code",
   "execution_count": null,
   "metadata": {
    "id": "bxAQnWKWOJ2d",
    "outputId": "559be1d7-5c28-4cf9-c19e-68626407f88e",
    "tags": []
   },
   "outputs": [
    {
     "data": {
      "text/html": [
       "<div>\n",
       "<style scoped>\n",
       "    .dataframe tbody tr th:only-of-type {\n",
       "        vertical-align: middle;\n",
       "    }\n",
       "\n",
       "    .dataframe tbody tr th {\n",
       "        vertical-align: top;\n",
       "    }\n",
       "\n",
       "    .dataframe thead th {\n",
       "        text-align: right;\n",
       "    }\n",
       "</style>\n",
       "<table border=\"1\" class=\"dataframe\">\n",
       "  <thead>\n",
       "    <tr style=\"text-align: right;\">\n",
       "      <th></th>\n",
       "      <th>Cod. Municipio</th>\n",
       "      <th>Subregión PDET</th>\n",
       "      <th>ZOMAC</th>\n",
       "    </tr>\n",
       "  </thead>\n",
       "  <tbody>\n",
       "    <tr>\n",
       "      <th>0</th>\n",
       "      <td>5001</td>\n",
       "      <td>0</td>\n",
       "      <td>0</td>\n",
       "    </tr>\n",
       "    <tr>\n",
       "      <th>1</th>\n",
       "      <td>5002</td>\n",
       "      <td>0</td>\n",
       "      <td>1</td>\n",
       "    </tr>\n",
       "    <tr>\n",
       "      <th>2</th>\n",
       "      <td>5004</td>\n",
       "      <td>0</td>\n",
       "      <td>1</td>\n",
       "    </tr>\n",
       "    <tr>\n",
       "      <th>3</th>\n",
       "      <td>5021</td>\n",
       "      <td>0</td>\n",
       "      <td>1</td>\n",
       "    </tr>\n",
       "    <tr>\n",
       "      <th>4</th>\n",
       "      <td>5030</td>\n",
       "      <td>0</td>\n",
       "      <td>0</td>\n",
       "    </tr>\n",
       "    <tr>\n",
       "      <th>...</th>\n",
       "      <td>...</td>\n",
       "      <td>...</td>\n",
       "      <td>...</td>\n",
       "    </tr>\n",
       "    <tr>\n",
       "      <th>95</th>\n",
       "      <td>5664</td>\n",
       "      <td>0</td>\n",
       "      <td>0</td>\n",
       "    </tr>\n",
       "    <tr>\n",
       "      <th>96</th>\n",
       "      <td>5665</td>\n",
       "      <td>URABÁ ANTIOQUEÑO</td>\n",
       "      <td>1</td>\n",
       "    </tr>\n",
       "    <tr>\n",
       "      <th>97</th>\n",
       "      <td>5667</td>\n",
       "      <td>0</td>\n",
       "      <td>1</td>\n",
       "    </tr>\n",
       "    <tr>\n",
       "      <th>98</th>\n",
       "      <td>5670</td>\n",
       "      <td>0</td>\n",
       "      <td>0</td>\n",
       "    </tr>\n",
       "    <tr>\n",
       "      <th>99</th>\n",
       "      <td>5674</td>\n",
       "      <td>0</td>\n",
       "      <td>0</td>\n",
       "    </tr>\n",
       "  </tbody>\n",
       "</table>\n",
       "<p>100 rows × 3 columns</p>\n",
       "</div>"
      ],
      "text/plain": [
       "    Cod. Municipio    Subregión PDET  ZOMAC\n",
       "0             5001                 0      0\n",
       "1             5002                 0      1\n",
       "2             5004                 0      1\n",
       "3             5021                 0      1\n",
       "4             5030                 0      0\n",
       "..             ...               ...    ...\n",
       "95            5664                 0      0\n",
       "96            5665  URABÁ ANTIOQUEÑO      1\n",
       "97            5667                 0      1\n",
       "98            5670                 0      0\n",
       "99            5674                 0      0\n",
       "\n",
       "[100 rows x 3 columns]"
      ]
     },
     "execution_count": 113,
     "metadata": {},
     "output_type": "execute_result"
    }
   ],
   "source": [
    "pdet_zomac_df = pd.read_csv(file_path+'/PDET_y_ZOMAC.txt',sep='|')\n",
    "\n",
    "#Para efectos de data quality se eliminan las columnas Departamento y Municipio\n",
    "pdet_zomac_df.drop(columns=['Departamento','Municipio'], inplace=True)\n",
    "\n",
    "#Para los municipios que no son PDET se reemplaza NaN por 0\n",
    "pdet_zomac_df.fillna(0, inplace=True)\n",
    "pdet_zomac_df.head(100)"
   ]
  },
  {
   "cell_type": "markdown",
   "metadata": {
    "id": "uThzP1M0OJ2d"
   },
   "source": [
    "# Población Diferencial <a name=\"id13\"></a>\n",
    "---\n",
    "Con el fin de caracterizar la población diferencial residente en cada municipio de Colombia, se recurrió a las siguientes fuentes de información:"
   ]
  },
  {
   "cell_type": "markdown",
   "metadata": {
    "id": "_ofPD-TKOJ2e"
   },
   "source": [
    "## Población Municipal\n",
    "**Fuente: Proyecciones de población municipal por área, sexo y edad para 2024, DANE**\n",
    "\n",
    "Permite identificar el porcentaje de la población que corresponde a mujeres y a jóvenes entre 14 y 28 años (Ley 1622 de 2013)."
   ]
  },
  {
   "cell_type": "code",
   "execution_count": null,
   "metadata": {
    "id": "Ey1pcSl1OJ2e",
    "outputId": "9c3b207e-22d3-4399-d15d-5bad81f912c7",
    "tags": []
   },
   "outputs": [
    {
     "data": {
      "text/html": [
       "<div>\n",
       "<style scoped>\n",
       "    .dataframe tbody tr th:only-of-type {\n",
       "        vertical-align: middle;\n",
       "    }\n",
       "\n",
       "    .dataframe tbody tr th {\n",
       "        vertical-align: top;\n",
       "    }\n",
       "\n",
       "    .dataframe thead th {\n",
       "        text-align: right;\n",
       "    }\n",
       "</style>\n",
       "<table border=\"1\" class=\"dataframe\">\n",
       "  <thead>\n",
       "    <tr style=\"text-align: right;\">\n",
       "      <th></th>\n",
       "      <th>Cod. Municipio</th>\n",
       "      <th>AÑO</th>\n",
       "      <th>Población municipio</th>\n",
       "      <th>Total Hombres</th>\n",
       "      <th>Total Mujeres</th>\n",
       "      <th>% mujeres municipio</th>\n",
       "      <th>% jóvenes municipio</th>\n",
       "    </tr>\n",
       "  </thead>\n",
       "  <tbody>\n",
       "    <tr>\n",
       "      <th>0</th>\n",
       "      <td>5001</td>\n",
       "      <td>2024</td>\n",
       "      <td>2616335</td>\n",
       "      <td>1232017</td>\n",
       "      <td>1384318</td>\n",
       "      <td>52,91057911161988</td>\n",
       "      <td>23,49217512283404</td>\n",
       "    </tr>\n",
       "    <tr>\n",
       "      <th>1</th>\n",
       "      <td>5002</td>\n",
       "      <td>2024</td>\n",
       "      <td>21468</td>\n",
       "      <td>11230</td>\n",
       "      <td>10238</td>\n",
       "      <td>47,689584497857275</td>\n",
       "      <td>19,638531768213156</td>\n",
       "    </tr>\n",
       "    <tr>\n",
       "      <th>2</th>\n",
       "      <td>5004</td>\n",
       "      <td>2024</td>\n",
       "      <td>2855</td>\n",
       "      <td>1549</td>\n",
       "      <td>1306</td>\n",
       "      <td>45,74430823117338</td>\n",
       "      <td>20,875656742556917</td>\n",
       "    </tr>\n",
       "    <tr>\n",
       "      <th>3</th>\n",
       "      <td>5021</td>\n",
       "      <td>2024</td>\n",
       "      <td>4955</td>\n",
       "      <td>2454</td>\n",
       "      <td>2501</td>\n",
       "      <td>50,474268415741676</td>\n",
       "      <td>19,414732593340062</td>\n",
       "    </tr>\n",
       "    <tr>\n",
       "      <th>4</th>\n",
       "      <td>5030</td>\n",
       "      <td>2024</td>\n",
       "      <td>32412</td>\n",
       "      <td>15890</td>\n",
       "      <td>16522</td>\n",
       "      <td>50,97494755029002</td>\n",
       "      <td>22,328150067876095</td>\n",
       "    </tr>\n",
       "  </tbody>\n",
       "</table>\n",
       "</div>"
      ],
      "text/plain": [
       "   Cod. Municipio   AÑO  Población municipio  Total Hombres  Total Mujeres  \\\n",
       "0            5001  2024              2616335        1232017        1384318   \n",
       "1            5002  2024                21468          11230          10238   \n",
       "2            5004  2024                 2855           1549           1306   \n",
       "3            5021  2024                 4955           2454           2501   \n",
       "4            5030  2024                32412          15890          16522   \n",
       "\n",
       "  % mujeres municipio % jóvenes municipio  \n",
       "0   52,91057911161988   23,49217512283404  \n",
       "1  47,689584497857275  19,638531768213156  \n",
       "2   45,74430823117338  20,875656742556917  \n",
       "3  50,474268415741676  19,414732593340062  \n",
       "4   50,97494755029002  22,328150067876095  "
      ]
     },
     "execution_count": 115,
     "metadata": {},
     "output_type": "execute_result"
    }
   ],
   "source": [
    "proyecciones_poblacion_df = pd.read_csv(file_path+'/Proyecciones_poblacion.txt', sep='|')\n",
    "\n",
    "#Para efectos de data quality se eliminan las columnas Departamento y Municipio\n",
    "proyecciones_poblacion_df.drop(columns=['Departamento','Municipio'], inplace=True)\n",
    "\n",
    "proyecciones_poblacion_df.head()"
   ]
  },
  {
   "cell_type": "markdown",
   "metadata": {
    "id": "YK-3UouEOJ2e"
   },
   "source": [
    "## Población con Discapacidad y Grupos Étnicos\n",
    "**Fuente: Censo Nacional de Población y Vivienda 2018, DANE**\n",
    "\n",
    "Permite identificar el porcentaje de la población que corresponde a mujeres y a jóvenes entre 14 y 28 años (Ley 1622 de 2013)."
   ]
  },
  {
   "cell_type": "code",
   "execution_count": null,
   "metadata": {
    "id": "-cQcWuBMOJ2e",
    "outputId": "eb953fb3-7e50-42ad-f517-0aaa2014733c",
    "tags": []
   },
   "outputs": [
    {
     "data": {
      "text/html": [
       "<div>\n",
       "<style scoped>\n",
       "    .dataframe tbody tr th:only-of-type {\n",
       "        vertical-align: middle;\n",
       "    }\n",
       "\n",
       "    .dataframe tbody tr th {\n",
       "        vertical-align: top;\n",
       "    }\n",
       "\n",
       "    .dataframe thead th {\n",
       "        text-align: right;\n",
       "    }\n",
       "</style>\n",
       "<table border=\"1\" class=\"dataframe\">\n",
       "  <thead>\n",
       "    <tr style=\"text-align: right;\">\n",
       "      <th></th>\n",
       "      <th>Cod. Municipio</th>\n",
       "      <th>CON_DISCAPACIDAD</th>\n",
       "      <th>ETNICO</th>\n",
       "      <th>EDUC_MEDIA</th>\n",
       "      <th>TECNICO/TECNOLOGO</th>\n",
       "      <th>PREGRADO</th>\n",
       "      <th>POSGRADO</th>\n",
       "      <th>Mayor20</th>\n",
       "      <th>TOTAL</th>\n",
       "      <th>PET</th>\n",
       "      <th>...</th>\n",
       "      <th>FT</th>\n",
       "      <th>% pobl. con discapacidad municipio</th>\n",
       "      <th>% grupos étnicos municipio</th>\n",
       "      <th>% pobl. con educación media municipio</th>\n",
       "      <th>% pobl. con edu. técnica/tecnología municipio</th>\n",
       "      <th>% pobl. con pregrado municipio</th>\n",
       "      <th>% pobl. con posgrado municipio</th>\n",
       "      <th>TGP</th>\n",
       "      <th>Tasa ocupación</th>\n",
       "      <th>Tasa desempleo</th>\n",
       "    </tr>\n",
       "  </thead>\n",
       "  <tbody>\n",
       "    <tr>\n",
       "      <th>0</th>\n",
       "      <td>5001</td>\n",
       "      <td>148803</td>\n",
       "      <td>61560</td>\n",
       "      <td>548969</td>\n",
       "      <td>233933</td>\n",
       "      <td>263487</td>\n",
       "      <td>82183</td>\n",
       "      <td>1781943</td>\n",
       "      <td>2372330</td>\n",
       "      <td>1966127</td>\n",
       "      <td>...</td>\n",
       "      <td>1194353</td>\n",
       "      <td>6.272441</td>\n",
       "      <td>2.594917</td>\n",
       "      <td>30.807327</td>\n",
       "      <td>13.127973</td>\n",
       "      <td>14.786500</td>\n",
       "      <td>4.611988</td>\n",
       "      <td>60.746483</td>\n",
       "      <td>54.678462</td>\n",
       "      <td>9.989090</td>\n",
       "    </tr>\n",
       "    <tr>\n",
       "      <th>1</th>\n",
       "      <td>5002</td>\n",
       "      <td>2824</td>\n",
       "      <td>64</td>\n",
       "      <td>1736</td>\n",
       "      <td>398</td>\n",
       "      <td>293</td>\n",
       "      <td>148</td>\n",
       "      <td>12445</td>\n",
       "      <td>17599</td>\n",
       "      <td>14051</td>\n",
       "      <td>...</td>\n",
       "      <td>7272</td>\n",
       "      <td>16.046366</td>\n",
       "      <td>0.363657</td>\n",
       "      <td>13.949377</td>\n",
       "      <td>3.198072</td>\n",
       "      <td>2.354359</td>\n",
       "      <td>1.189233</td>\n",
       "      <td>51.754324</td>\n",
       "      <td>50.985695</td>\n",
       "      <td>1.485149</td>\n",
       "    </tr>\n",
       "    <tr>\n",
       "      <th>2</th>\n",
       "      <td>5004</td>\n",
       "      <td>361</td>\n",
       "      <td>44</td>\n",
       "      <td>365</td>\n",
       "      <td>100</td>\n",
       "      <td>48</td>\n",
       "      <td>20</td>\n",
       "      <td>1512</td>\n",
       "      <td>2159</td>\n",
       "      <td>1724</td>\n",
       "      <td>...</td>\n",
       "      <td>859</td>\n",
       "      <td>16.720704</td>\n",
       "      <td>2.037981</td>\n",
       "      <td>24.140212</td>\n",
       "      <td>6.613757</td>\n",
       "      <td>3.174603</td>\n",
       "      <td>1.322751</td>\n",
       "      <td>49.825986</td>\n",
       "      <td>48.085847</td>\n",
       "      <td>3.492433</td>\n",
       "    </tr>\n",
       "    <tr>\n",
       "      <th>3</th>\n",
       "      <td>5021</td>\n",
       "      <td>311</td>\n",
       "      <td>12</td>\n",
       "      <td>441</td>\n",
       "      <td>203</td>\n",
       "      <td>109</td>\n",
       "      <td>28</td>\n",
       "      <td>2660</td>\n",
       "      <td>3839</td>\n",
       "      <td>2982</td>\n",
       "      <td>...</td>\n",
       "      <td>1527</td>\n",
       "      <td>8.101068</td>\n",
       "      <td>0.312581</td>\n",
       "      <td>16.578947</td>\n",
       "      <td>7.631579</td>\n",
       "      <td>4.097744</td>\n",
       "      <td>1.052632</td>\n",
       "      <td>51.207243</td>\n",
       "      <td>50.201207</td>\n",
       "      <td>1.964637</td>\n",
       "    </tr>\n",
       "    <tr>\n",
       "      <th>4</th>\n",
       "      <td>5030</td>\n",
       "      <td>2420</td>\n",
       "      <td>139</td>\n",
       "      <td>5230</td>\n",
       "      <td>1458</td>\n",
       "      <td>735</td>\n",
       "      <td>189</td>\n",
       "      <td>19493</td>\n",
       "      <td>26821</td>\n",
       "      <td>21783</td>\n",
       "      <td>...</td>\n",
       "      <td>11626</td>\n",
       "      <td>9.022781</td>\n",
       "      <td>0.518251</td>\n",
       "      <td>26.830144</td>\n",
       "      <td>7.479608</td>\n",
       "      <td>3.770584</td>\n",
       "      <td>0.969579</td>\n",
       "      <td>53.371896</td>\n",
       "      <td>49.437635</td>\n",
       "      <td>7.371409</td>\n",
       "    </tr>\n",
       "  </tbody>\n",
       "</table>\n",
       "<p>5 rows × 22 columns</p>\n",
       "</div>"
      ],
      "text/plain": [
       "   Cod. Municipio  CON_DISCAPACIDAD  ETNICO  EDUC_MEDIA  TECNICO/TECNOLOGO  \\\n",
       "0            5001            148803   61560      548969             233933   \n",
       "1            5002              2824      64        1736                398   \n",
       "2            5004               361      44         365                100   \n",
       "3            5021               311      12         441                203   \n",
       "4            5030              2420     139        5230               1458   \n",
       "\n",
       "   PREGRADO  POSGRADO  Mayor20    TOTAL      PET  ...       FT  \\\n",
       "0    263487     82183  1781943  2372330  1966127  ...  1194353   \n",
       "1       293       148    12445    17599    14051  ...     7272   \n",
       "2        48        20     1512     2159     1724  ...      859   \n",
       "3       109        28     2660     3839     2982  ...     1527   \n",
       "4       735       189    19493    26821    21783  ...    11626   \n",
       "\n",
       "   % pobl. con discapacidad municipio  % grupos étnicos municipio  \\\n",
       "0                            6.272441                    2.594917   \n",
       "1                           16.046366                    0.363657   \n",
       "2                           16.720704                    2.037981   \n",
       "3                            8.101068                    0.312581   \n",
       "4                            9.022781                    0.518251   \n",
       "\n",
       "   % pobl. con educación media municipio  \\\n",
       "0                              30.807327   \n",
       "1                              13.949377   \n",
       "2                              24.140212   \n",
       "3                              16.578947   \n",
       "4                              26.830144   \n",
       "\n",
       "   % pobl. con edu. técnica/tecnología municipio  \\\n",
       "0                                      13.127973   \n",
       "1                                       3.198072   \n",
       "2                                       6.613757   \n",
       "3                                       7.631579   \n",
       "4                                       7.479608   \n",
       "\n",
       "   % pobl. con pregrado municipio  % pobl. con posgrado municipio        TGP  \\\n",
       "0                       14.786500                        4.611988  60.746483   \n",
       "1                        2.354359                        1.189233  51.754324   \n",
       "2                        3.174603                        1.322751  49.825986   \n",
       "3                        4.097744                        1.052632  51.207243   \n",
       "4                        3.770584                        0.969579  53.371896   \n",
       "\n",
       "   Tasa ocupación  Tasa desempleo  \n",
       "0       54.678462        9.989090  \n",
       "1       50.985695        1.485149  \n",
       "2       48.085847        3.492433  \n",
       "3       50.201207        1.964637  \n",
       "4       49.437635        7.371409  \n",
       "\n",
       "[5 rows x 22 columns]"
      ]
     },
     "execution_count": 10,
     "metadata": {},
     "output_type": "execute_result"
    }
   ],
   "source": [
    "datos_censo_df = pd.read_csv(file_path+'/Datos_censo_por_municipios.txt', sep='|')\n",
    "datos_censo_df.columns = ['Cod. Municipio', 'CON_DISCAPACIDAD', 'ETNICO', 'EDUC_MEDIA', 'TECNICO/TECNOLOGO', 'PREGRADO', 'POSGRADO', 'Mayor20', 'TOTAL', 'PET', 'OCU', 'DSO', 'FT', '% pobl. con discapacidad municipio', '% grupos étnicos municipio', '% pobl. con educación media municipio', '% pobl. con edu. técnica/tecnología municipio', '% pobl. con pregrado municipio', '% pobl. con posgrado municipio', 'TGP', 'Tasa ocupación', 'Tasa desempleo']\n",
    "\n",
    "# Convert percentage columns to float\n",
    "datos_censo_df['% pobl. con discapacidad municipio'] = datos_censo_df['% pobl. con discapacidad municipio'].str.replace(',', '.').astype(float)\n",
    "datos_censo_df['% grupos étnicos municipio'] = datos_censo_df['% grupos étnicos municipio'].str.replace(',', '.').astype(float)\n",
    "datos_censo_df['% pobl. con educación media municipio'] = datos_censo_df['% pobl. con educación media municipio'].str.replace(',', '.').astype(float)\n",
    "datos_censo_df['% pobl. con edu. técnica/tecnología municipio'] = datos_censo_df['% pobl. con edu. técnica/tecnología municipio'].str.replace(',', '.').astype(float)\n",
    "datos_censo_df['% pobl. con pregrado municipio'] = datos_censo_df['% pobl. con pregrado municipio'].str.replace(',', '.').astype(float)\n",
    "datos_censo_df['% pobl. con posgrado municipio'] = datos_censo_df['% pobl. con posgrado municipio'].str.replace(',', '.').astype(float)\n",
    "datos_censo_df['TGP'] = datos_censo_df['TGP'].str.replace(',', '.').astype(float)\n",
    "datos_censo_df['Tasa ocupación'] = datos_censo_df['Tasa ocupación'].str.replace(',', '.').astype(float)\n",
    "datos_censo_df['Tasa desempleo'] = datos_censo_df['Tasa desempleo'].str.replace(',', '.').astype(float)\n",
    "datos_censo_df.head()"
   ]
  },
  {
   "cell_type": "markdown",
   "metadata": {
    "id": "NLh04RYsOJ2e"
   },
   "source": [
    "## Pobreza y Hogares Ocupados Informales\n",
    "**Fuente: Medida de Pobreza Multidimensional Municipal 2018,DANE**\n",
    "\n",
    "Permite identificar el porcentaje de población con discapacidad y el porcentaje de población correspondiente a grupos étnicos (Indígena, Gitano o Rom, Raizal del Archipiélago de San Andrés, Providencia y Santa Catalina, Palenquero de San Basilio, Negro, Mulato, Afrodescendiente, Afrocolombiano)."
   ]
  },
  {
   "cell_type": "code",
   "execution_count": null,
   "metadata": {
    "id": "WS9CwV4JOJ2e",
    "outputId": "d102270b-8e12-418c-c957-36eeed1d3f65",
    "scrolled": true,
    "tags": []
   },
   "outputs": [
    {
     "data": {
      "text/html": [
       "<div>\n",
       "<style scoped>\n",
       "    .dataframe tbody tr th:only-of-type {\n",
       "        vertical-align: middle;\n",
       "    }\n",
       "\n",
       "    .dataframe tbody tr th {\n",
       "        vertical-align: top;\n",
       "    }\n",
       "\n",
       "    .dataframe thead th {\n",
       "        text-align: right;\n",
       "    }\n",
       "</style>\n",
       "<table border=\"1\" class=\"dataframe\">\n",
       "  <thead>\n",
       "    <tr style=\"text-align: right;\">\n",
       "      <th></th>\n",
       "      <th>Cod. Municipio</th>\n",
       "      <th>% pobreza municipio</th>\n",
       "      <th>% informalidad municipio</th>\n",
       "    </tr>\n",
       "  </thead>\n",
       "  <tbody>\n",
       "    <tr>\n",
       "      <th>0</th>\n",
       "      <td>5001</td>\n",
       "      <td>12.8</td>\n",
       "      <td>71.0</td>\n",
       "    </tr>\n",
       "    <tr>\n",
       "      <th>1</th>\n",
       "      <td>5002</td>\n",
       "      <td>40.6</td>\n",
       "      <td>87.5</td>\n",
       "    </tr>\n",
       "    <tr>\n",
       "      <th>2</th>\n",
       "      <td>5004</td>\n",
       "      <td>34.8</td>\n",
       "      <td>87.6</td>\n",
       "    </tr>\n",
       "    <tr>\n",
       "      <th>3</th>\n",
       "      <td>5021</td>\n",
       "      <td>31.9</td>\n",
       "      <td>87.1</td>\n",
       "    </tr>\n",
       "    <tr>\n",
       "      <th>4</th>\n",
       "      <td>5030</td>\n",
       "      <td>22.9</td>\n",
       "      <td>69.5</td>\n",
       "    </tr>\n",
       "  </tbody>\n",
       "</table>\n",
       "</div>"
      ],
      "text/plain": [
       "   Cod. Municipio  % pobreza municipio  % informalidad municipio\n",
       "0            5001                 12.8                      71.0\n",
       "1            5002                 40.6                      87.5\n",
       "2            5004                 34.8                      87.6\n",
       "3            5021                 31.9                      87.1\n",
       "4            5030                 22.9                      69.5"
      ]
     },
     "execution_count": 123,
     "metadata": {},
     "output_type": "execute_result"
    }
   ],
   "source": [
    "ipm_df = pd.read_csv(file_path+'/IPM.txt', sep='|')\n",
    "ipm_df.columns = ['Cod. Municipio', 'Departamento', 'Municipio', '% pobreza municipio', '% informalidad municipio']\n",
    "\n",
    "#Para efectos de data quality se eliminan las columnas Departamento y Municipio\n",
    "ipm_df.drop(columns=['Departamento','Municipio'], inplace=True)\n",
    "\n",
    "ipm_df['% pobreza municipio'] = ipm_df['% pobreza municipio'].str.replace(',', '.').astype(float)\n",
    "ipm_df['% informalidad municipio'] = ipm_df['% informalidad municipio'].str.replace(',', '.').astype(float)\n",
    "ipm_df.head()"
   ]
  },
  {
   "cell_type": "markdown",
   "metadata": {
    "id": "VmWwuHWFOJ2e"
   },
   "source": [
    "## Análisis de Información SocioEconómica de la Población Municipal\n",
    "A través del merge de la información de ubicación, proyección de población municipal,población con discapacidad, grupos étnicos, índices de pobreza y hogares ocupados informales."
   ]
  },
  {
   "cell_type": "code",
   "execution_count": null,
   "metadata": {
    "id": "DXB-7Wz6OJ2f",
    "outputId": "b6f67508-2eaa-400b-9a0e-d7db2c610cd6",
    "tags": []
   },
   "outputs": [
    {
     "data": {
      "text/html": [
       "<div>\n",
       "<style scoped>\n",
       "    .dataframe tbody tr th:only-of-type {\n",
       "        vertical-align: middle;\n",
       "    }\n",
       "\n",
       "    .dataframe tbody tr th {\n",
       "        vertical-align: top;\n",
       "    }\n",
       "\n",
       "    .dataframe thead th {\n",
       "        text-align: right;\n",
       "    }\n",
       "</style>\n",
       "<table border=\"1\" class=\"dataframe\">\n",
       "  <thead>\n",
       "    <tr style=\"text-align: right;\">\n",
       "      <th></th>\n",
       "      <th>Cod. Departamento</th>\n",
       "      <th>Nombre Departamento</th>\n",
       "      <th>Cod. Municipio</th>\n",
       "      <th>Nombre Municipio</th>\n",
       "      <th>Tipo</th>\n",
       "      <th>LATITUD</th>\n",
       "      <th>LONGITUD</th>\n",
       "      <th>Subregión PDET</th>\n",
       "      <th>ZOMAC</th>\n",
       "      <th>AÑO</th>\n",
       "      <th>...</th>\n",
       "      <th>% grupos étnicos municipio</th>\n",
       "      <th>% pobl. con educación media municipio</th>\n",
       "      <th>% pobl. con edu. técnica/tecnología municipio</th>\n",
       "      <th>% pobl. con pregrado municipio</th>\n",
       "      <th>% pobl. con posgrado municipio</th>\n",
       "      <th>TGP</th>\n",
       "      <th>Tasa ocupación</th>\n",
       "      <th>Tasa desempleo</th>\n",
       "      <th>% pobreza municipio</th>\n",
       "      <th>% informalidad municipio</th>\n",
       "    </tr>\n",
       "  </thead>\n",
       "  <tbody>\n",
       "    <tr>\n",
       "      <th>0</th>\n",
       "      <td>5</td>\n",
       "      <td>ANTIOQUIA</td>\n",
       "      <td>5001</td>\n",
       "      <td>MEDELLÍN</td>\n",
       "      <td>Municipio</td>\n",
       "      <td>6.257590</td>\n",
       "      <td>-75.611031</td>\n",
       "      <td>0</td>\n",
       "      <td>0</td>\n",
       "      <td>2024</td>\n",
       "      <td>...</td>\n",
       "      <td>2.594917</td>\n",
       "      <td>30.807327</td>\n",
       "      <td>13.127973</td>\n",
       "      <td>14.786500</td>\n",
       "      <td>4.611988</td>\n",
       "      <td>60.746483</td>\n",
       "      <td>54.678462</td>\n",
       "      <td>9.989090</td>\n",
       "      <td>12.8</td>\n",
       "      <td>71.0</td>\n",
       "    </tr>\n",
       "    <tr>\n",
       "      <th>1</th>\n",
       "      <td>5</td>\n",
       "      <td>ANTIOQUIA</td>\n",
       "      <td>5002</td>\n",
       "      <td>ABEJORRAL</td>\n",
       "      <td>Municipio</td>\n",
       "      <td>5.803728</td>\n",
       "      <td>-75.438474</td>\n",
       "      <td>0</td>\n",
       "      <td>1</td>\n",
       "      <td>2024</td>\n",
       "      <td>...</td>\n",
       "      <td>0.363657</td>\n",
       "      <td>13.949377</td>\n",
       "      <td>3.198072</td>\n",
       "      <td>2.354359</td>\n",
       "      <td>1.189233</td>\n",
       "      <td>51.754324</td>\n",
       "      <td>50.985695</td>\n",
       "      <td>1.485149</td>\n",
       "      <td>40.6</td>\n",
       "      <td>87.5</td>\n",
       "    </tr>\n",
       "    <tr>\n",
       "      <th>2</th>\n",
       "      <td>5</td>\n",
       "      <td>ANTIOQUIA</td>\n",
       "      <td>5004</td>\n",
       "      <td>ABRIAQUÍ</td>\n",
       "      <td>Municipio</td>\n",
       "      <td>6.627569</td>\n",
       "      <td>-76.085978</td>\n",
       "      <td>0</td>\n",
       "      <td>1</td>\n",
       "      <td>2024</td>\n",
       "      <td>...</td>\n",
       "      <td>2.037981</td>\n",
       "      <td>24.140212</td>\n",
       "      <td>6.613757</td>\n",
       "      <td>3.174603</td>\n",
       "      <td>1.322751</td>\n",
       "      <td>49.825986</td>\n",
       "      <td>48.085847</td>\n",
       "      <td>3.492433</td>\n",
       "      <td>34.8</td>\n",
       "      <td>87.6</td>\n",
       "    </tr>\n",
       "    <tr>\n",
       "      <th>3</th>\n",
       "      <td>5</td>\n",
       "      <td>ANTIOQUIA</td>\n",
       "      <td>5021</td>\n",
       "      <td>ALEJANDRÍA</td>\n",
       "      <td>Municipio</td>\n",
       "      <td>6.365534</td>\n",
       "      <td>-75.090597</td>\n",
       "      <td>0</td>\n",
       "      <td>1</td>\n",
       "      <td>2024</td>\n",
       "      <td>...</td>\n",
       "      <td>0.312581</td>\n",
       "      <td>16.578947</td>\n",
       "      <td>7.631579</td>\n",
       "      <td>4.097744</td>\n",
       "      <td>1.052632</td>\n",
       "      <td>51.207243</td>\n",
       "      <td>50.201207</td>\n",
       "      <td>1.964637</td>\n",
       "      <td>31.9</td>\n",
       "      <td>87.1</td>\n",
       "    </tr>\n",
       "    <tr>\n",
       "      <th>4</th>\n",
       "      <td>5</td>\n",
       "      <td>ANTIOQUIA</td>\n",
       "      <td>5030</td>\n",
       "      <td>AMAGÁ</td>\n",
       "      <td>Municipio</td>\n",
       "      <td>6.032922</td>\n",
       "      <td>-75.708003</td>\n",
       "      <td>0</td>\n",
       "      <td>0</td>\n",
       "      <td>2024</td>\n",
       "      <td>...</td>\n",
       "      <td>0.518251</td>\n",
       "      <td>26.830144</td>\n",
       "      <td>7.479608</td>\n",
       "      <td>3.770584</td>\n",
       "      <td>0.969579</td>\n",
       "      <td>53.371896</td>\n",
       "      <td>49.437635</td>\n",
       "      <td>7.371409</td>\n",
       "      <td>22.9</td>\n",
       "      <td>69.5</td>\n",
       "    </tr>\n",
       "  </tbody>\n",
       "</table>\n",
       "<p>5 rows × 38 columns</p>\n",
       "</div>"
      ],
      "text/plain": [
       "   Cod. Departamento Nombre Departamento  Cod. Municipio Nombre Municipio  \\\n",
       "0                  5           ANTIOQUIA            5001         MEDELLÍN   \n",
       "1                  5           ANTIOQUIA            5002        ABEJORRAL   \n",
       "2                  5           ANTIOQUIA            5004         ABRIAQUÍ   \n",
       "3                  5           ANTIOQUIA            5021       ALEJANDRÍA   \n",
       "4                  5           ANTIOQUIA            5030            AMAGÁ   \n",
       "\n",
       "        Tipo   LATITUD   LONGITUD Subregión PDET  ZOMAC   AÑO  ...  \\\n",
       "0  Municipio  6.257590 -75.611031              0      0  2024  ...   \n",
       "1  Municipio  5.803728 -75.438474              0      1  2024  ...   \n",
       "2  Municipio  6.627569 -76.085978              0      1  2024  ...   \n",
       "3  Municipio  6.365534 -75.090597              0      1  2024  ...   \n",
       "4  Municipio  6.032922 -75.708003              0      0  2024  ...   \n",
       "\n",
       "   % grupos étnicos municipio  % pobl. con educación media municipio  \\\n",
       "0                    2.594917                              30.807327   \n",
       "1                    0.363657                              13.949377   \n",
       "2                    2.037981                              24.140212   \n",
       "3                    0.312581                              16.578947   \n",
       "4                    0.518251                              26.830144   \n",
       "\n",
       "   % pobl. con edu. técnica/tecnología municipio  \\\n",
       "0                                      13.127973   \n",
       "1                                       3.198072   \n",
       "2                                       6.613757   \n",
       "3                                       7.631579   \n",
       "4                                       7.479608   \n",
       "\n",
       "  % pobl. con pregrado municipio % pobl. con posgrado municipio        TGP  \\\n",
       "0                      14.786500                       4.611988  60.746483   \n",
       "1                       2.354359                       1.189233  51.754324   \n",
       "2                       3.174603                       1.322751  49.825986   \n",
       "3                       4.097744                       1.052632  51.207243   \n",
       "4                       3.770584                       0.969579  53.371896   \n",
       "\n",
       "   Tasa ocupación  Tasa desempleo  % pobreza municipio  \\\n",
       "0       54.678462        9.989090                 12.8   \n",
       "1       50.985695        1.485149                 40.6   \n",
       "2       48.085847        3.492433                 34.8   \n",
       "3       50.201207        1.964637                 31.9   \n",
       "4       49.437635        7.371409                 22.9   \n",
       "\n",
       "   % informalidad municipio  \n",
       "0                      71.0  \n",
       "1                      87.5  \n",
       "2                      87.6  \n",
       "3                      87.1  \n",
       "4                      69.5  \n",
       "\n",
       "[5 rows x 38 columns]"
      ]
     },
     "execution_count": 125,
     "metadata": {},
     "output_type": "execute_result"
    }
   ],
   "source": [
    "merged_full_df = pd.merge(ubicacion_df, pdet_zomac_df, on='Cod. Municipio', how='inner')\n",
    "merged_full_df = pd.merge(merged_full_df, proyecciones_poblacion_df, on='Cod. Municipio', how='inner')\n",
    "merged_full_df = pd.merge(merged_full_df, datos_censo_df, on='Cod. Municipio', how='inner')\n",
    "merged_full_df = pd.merge(merged_full_df, ipm_df, on='Cod. Municipio', how='inner')\n",
    "merged_full_df.head()"
   ]
  },
  {
   "cell_type": "markdown",
   "metadata": {
    "id": "ZpBARcL1OJ2f"
   },
   "source": [
    "### Pobreza vs PDET"
   ]
  },
  {
   "cell_type": "code",
   "execution_count": null,
   "metadata": {
    "id": "9E3rFzzVOJ2f",
    "outputId": "1340db28-7156-4f7d-df86-2d1024c22d76",
    "tags": []
   },
   "outputs": [
    {
     "data": {
      "image/png": "[encoded data removed]",
      "text/plain": [
       "<Figure size 1200x600 with 1 Axes>"
      ]
     },
     "metadata": {},
     "output_type": "display_data"
    }
   ],
   "source": [
    "plt.figure(figsize=(12, 6))\n",
    "sns.violinplot(x='Subregión PDET', y='% pobreza municipio', data=merged_full_df, inner='quartile')\n",
    "plt.xlabel('Subregión PDET')\n",
    "plt.xticks(rotation=90)\n",
    "plt.ylabel('Porcentaje de Pobreza')\n",
    "plt.title('Distribución de Porcentaje de Pobreza por Subregión PDET')\n",
    "plt.show()"
   ]
  },
  {
   "cell_type": "markdown",
   "metadata": {
    "id": "wbGzlbt8OJ2f",
    "tags": []
   },
   "source": [
    "## Pobreza vs ZOMAC"
   ]
  },
  {
   "cell_type": "code",
   "execution_count": null,
   "metadata": {
    "id": "LtYlVfS4OJ2f",
    "outputId": "66db0cf5-23df-4603-ece5-8256404264c3",
    "tags": []
   },
   "outputs": [
    {
     "data": {
      "image/png": "[encoded data removed]",
      "text/plain": [
       "<Figure size 1200x600 with 1 Axes>"
      ]
     },
     "metadata": {},
     "output_type": "display_data"
    }
   ],
   "source": [
    "plt.figure(figsize=(12, 6))\n",
    "sns.violinplot(x='ZOMAC', y='% pobreza municipio', data=merged_full_df, inner='quartile')\n",
    "plt.xlabel('Estado ZOMAC')\n",
    "plt.xticks(rotation=90)\n",
    "plt.ylabel('Porcentaje de Pobreza')\n",
    "plt.title('Distribución Porcentaje de Pobreza por Estado ZOMAC')\n",
    "plt.show()"
   ]
  },
  {
   "cell_type": "code",
   "execution_count": null,
   "metadata": {
    "id": "9EIdfcCfOJ2f",
    "outputId": "c7798427-77fd-4cf4-e469-34e718ed7ad7",
    "tags": []
   },
   "outputs": [
    {
     "data": {
      "image/png": "[encoded data removed]",
      "text/plain": [
       "<Figure size 1200x600 with 1 Axes>"
      ]
     },
     "metadata": {},
     "output_type": "display_data"
    }
   ],
   "source": [
    "plt.figure(figsize=(12, 6))\n",
    "sns.scatterplot(x='Población municipio', y='% pobreza municipio', hue='ZOMAC', data=merged_full_df)\n",
    "plt.xlabel('Población')\n",
    "plt.ylabel('Porcentaje de Pobreza')\n",
    "plt.title('Población vs Porcentaje de Pobreza por Estado ZOMAC')\n",
    "plt.show()"
   ]
  },
  {
   "cell_type": "markdown",
   "metadata": {
    "id": "qQYT-yqvOJ2f"
   },
   "source": [
    "# Tejido Empresarial <a name=\"id14\"></a>\n",
    "---\n",
    "**Fuente: Gerencia de Inteligencia Comercial de ProColombia**\n",
    "\n",
    "Se consultó la base \"Tejido Empresarial de Colombia\" construída por la Coordinación de Analítica - Gerencia de Inteligencia Comercial de ProColombia. Esta base tuvo en cuenta las siguientes fuentes:\n",
    "\n",
    "- Registro Único Empresarial y Social (RUES) con corte a mayo de 2023, que incluyó empresas con renovación de matrícula mercantil desde el año 2019 en adelante, clasificadas como “sociedad o persona jurídica principal” y en estado “activa”.\n",
    "- Directorio empresarial del DANE con corte a abril 2023.\n",
    "- Las 10.000 empresas más grandes de Colombia, Superintendencia de Sociedades (2021).\n",
    "- Base de exportaciones de bienes, DANE-DIAN (2013-2022).\n",
    "- CRM de ProColombia (2013-2022).\n",
    "\n",
    "Es importante aclarar que esta base se enfoca en personas jurídicas principales (no tiene en cuenta sucursales). Aunque también se encuentran algunas personas naturales provenientes de la base de exportaciones de bienes y/o del CRM de ProColombia, estos casos solo representan el 2% del total de empresas que se identificaron para Colombia.\n",
    "\n",
    "En el proceso de construcción de la base \"Tejido Empresarial de Colombia\", cada una de las cinco fuentes previamente mencionadas recibió un tratamiento que consistió en la limpieza interna, con el propósito de asegurar la precisión y la calidad de la información contenida. Para ello se realizó decodificación de variables, unificación de unidades de medida, unificación de categorías y se analizaron y ajustaron valores extremos, datos inconsistentes y duplicados. Además, se unificó el NIT y la razón social de las empresas utilizando algoritmos avanzados de procesamiento de lenguaje natural (PLN).\n",
    "\n",
    "Las cinco fuentes se unieron con el fin de consolidar un registro amplio del tejido empresarial. Se efectuó la identificación de empresas presentes en múltiples fuentes a través de su NIT o mediante el algoritmo de PLN y se tomaron las siguientes decisiones frente a variables existentes en varias fuentes de datos:\n",
    "\n",
    "- En cuanto a la asignación de la razón social, se inició con el nombre proporcionado por el RUES; en caso de no disponer de este, se recurrió al suministrado por la Superintendencia de Sociedades; de no estar, se tomó el del Directorio empresarial del DANE, seguido por la base de exportaciones de bienes DANE-DIAN y finalizando con la razón social registrada en el CRM de ProColombia.\n",
    "- Respecto a los datos de ubicación geográfica y actividad económica de las empresas, la primacía la tuvo el RUES. Solo si la empresa no figuraba en el RUES, se recurrió a los datos proporcionados por la Superintendencia de Sociedades y, en ausencia de información en ambos registros, se optó por la información contenida en el Directorio empresarial del DANE.\n",
    "- Para la información de contacto, que incluye dirección, teléfono y correo electrónico, se realizó una integración y consolidación de la información proveniente del RUES, la Superintendencia de Sociedades y el Directorio empresarial del DANE, para garantizar una base de datos de contacto completa y fiable.\n",
    "- En lo que atañe a los datos de activos, ingresos operacionales, utilidad y la identificación de si es sucursal de sociedad extranjera, se priorizó la información validada por la Superintendencia de Sociedades. En los casos donde no estaba disponible esta fuente, se tomaron los datos registrados en el RUES. Cabe destacar que el Directorio empresarial del DANE no dispone de estas variables.\n",
    "- Para las cifras de exportaciones de bienes se utilizó la base de exportaciones de bienes DANE-DIAN, mientras que para las exportaciones de servicios se recurrió a la información de negocios provista por el CRM de ProColombia.\n",
    "\n",
    "**Tamaño de la empresa:**\n",
    "\n",
    "En la base \"Tejido Empresarial de Colombia\" se determinó el tamaño de las empresas con base en el Decreto 957 de 2019, donde la clasificación se realiza según la actividad económica y el nivel de ingresos de la empresa:\n",
    "\n",
    "- Con base en el decreto, se hizo el cálculo para las 10.000 empresas más grandes de Colombia, fuente Superintendencia de Sociedades.\n",
    "- Para el resto de las empresas, se tomó el tamaño informado por el RUES con corte a mayo de 2023, donde cada cámara de comercio se encarga de realizar el cálculo con base en el Decreto 957 de 2019.\n",
    "\n",
    "La categoría \"No determinado\" corresponde a empresas que no tienen su clasificación de tamaño en el RUES o que provienen de fuentes de información como Directorio Empresarial del DANE, Base de exportaciones de bienes DANE-DIAN o CRM de ProColombia donde no se encuentra información para realizar la clasificación por tamaño."
   ]
  },
  {
   "cell_type": "code",
   "execution_count": null,
   "metadata": {
    "id": "jct3-jtjOJ2f",
    "outputId": "9648967e-2c1e-417d-e88b-10430bb84c73",
    "tags": []
   },
   "outputs": [
    {
     "data": {
      "text/html": [
       "<div>\n",
       "<style scoped>\n",
       "    .dataframe tbody tr th:only-of-type {\n",
       "        vertical-align: middle;\n",
       "    }\n",
       "\n",
       "    .dataframe tbody tr th {\n",
       "        vertical-align: top;\n",
       "    }\n",
       "\n",
       "    .dataframe thead th {\n",
       "        text-align: right;\n",
       "    }\n",
       "</style>\n",
       "<table border=\"1\" class=\"dataframe\">\n",
       "  <thead>\n",
       "    <tr style=\"text-align: right;\">\n",
       "      <th></th>\n",
       "      <th>Cod. Depto</th>\n",
       "      <th>Departamento</th>\n",
       "      <th>Cod. Municipio</th>\n",
       "      <th>Municipio</th>\n",
       "      <th>Tamaño</th>\n",
       "      <th>Cadena productiva</th>\n",
       "      <th>CIIU Rev 4 principal</th>\n",
       "      <th>Descripción CIIU principal</th>\n",
       "      <th>Valor agregado empresa</th>\n",
       "      <th>Sucursal sociedad extranjera</th>\n",
       "      <th>Tipo* ult 10 años</th>\n",
       "      <th>Cadena* ult 10 años</th>\n",
       "      <th>Sector* ult 10 años</th>\n",
       "      <th>Subsector* ult 10 años</th>\n",
       "      <th>Posara* ult 10 años</th>\n",
       "      <th>Descripcion posara* ult 10 años</th>\n",
       "      <th>Atendida por ProColombia</th>\n",
       "      <th>Número de empresas</th>\n",
       "    </tr>\n",
       "  </thead>\n",
       "  <tbody>\n",
       "    <tr>\n",
       "      <th>0</th>\n",
       "      <td>05</td>\n",
       "      <td>Antioquia</td>\n",
       "      <td>05001</td>\n",
       "      <td>Medellín</td>\n",
       "      <td>Grande</td>\n",
       "      <td>Agroalimentos</td>\n",
       "      <td>0113</td>\n",
       "      <td>Cultivo de hortalizas, raíces y tubérculos</td>\n",
       "      <td>Bienes primarios</td>\n",
       "      <td>No</td>\n",
       "      <td>No Mineras</td>\n",
       "      <td>Agroalimentos</td>\n",
       "      <td>Frutas y hortalizas frescas y procesadas</td>\n",
       "      <td>Legumbres y hortalizas frescas</td>\n",
       "      <td>0709510000</td>\n",
       "      <td>Hongos del género agaricus, frescos o refriger...</td>\n",
       "      <td>Si</td>\n",
       "      <td>1</td>\n",
       "    </tr>\n",
       "    <tr>\n",
       "      <th>1</th>\n",
       "      <td>05</td>\n",
       "      <td>Antioquia</td>\n",
       "      <td>05001</td>\n",
       "      <td>Medellín</td>\n",
       "      <td>Grande</td>\n",
       "      <td>Agroalimentos</td>\n",
       "      <td>0121</td>\n",
       "      <td>Cultivo de frutas tropicales y subtropicales</td>\n",
       "      <td>Bienes primarios</td>\n",
       "      <td>No</td>\n",
       "      <td>No exportó ult. 10 años</td>\n",
       "      <td>No exportó ult. 10 años</td>\n",
       "      <td>No exportó ult. 10 años</td>\n",
       "      <td>No exportó ult. 10 años</td>\n",
       "      <td>No exportó ult. 10 años</td>\n",
       "      <td>No exportó ult. 10 años</td>\n",
       "      <td>No</td>\n",
       "      <td>1</td>\n",
       "    </tr>\n",
       "    <tr>\n",
       "      <th>2</th>\n",
       "      <td>05</td>\n",
       "      <td>Antioquia</td>\n",
       "      <td>05001</td>\n",
       "      <td>Medellín</td>\n",
       "      <td>Grande</td>\n",
       "      <td>Agroalimentos</td>\n",
       "      <td>0122</td>\n",
       "      <td>Cultivo de plátano y banano</td>\n",
       "      <td>Bienes primarios</td>\n",
       "      <td>No</td>\n",
       "      <td>No exportó ult. 10 años</td>\n",
       "      <td>No exportó ult. 10 años</td>\n",
       "      <td>No exportó ult. 10 años</td>\n",
       "      <td>No exportó ult. 10 años</td>\n",
       "      <td>No exportó ult. 10 años</td>\n",
       "      <td>No exportó ult. 10 años</td>\n",
       "      <td>No</td>\n",
       "      <td>2</td>\n",
       "    </tr>\n",
       "    <tr>\n",
       "      <th>3</th>\n",
       "      <td>05</td>\n",
       "      <td>Antioquia</td>\n",
       "      <td>05001</td>\n",
       "      <td>Medellín</td>\n",
       "      <td>Grande</td>\n",
       "      <td>Agroalimentos</td>\n",
       "      <td>0125</td>\n",
       "      <td>Cultivo de flor de corte</td>\n",
       "      <td>Bienes primarios</td>\n",
       "      <td>No</td>\n",
       "      <td>No Mineras</td>\n",
       "      <td>Agroalimentos</td>\n",
       "      <td>Flores y plantas vivas</td>\n",
       "      <td>Flores frescas</td>\n",
       "      <td>0603141000</td>\n",
       "      <td>Pompones frescos, cortados para ramos o adornos.</td>\n",
       "      <td>Si</td>\n",
       "      <td>1</td>\n",
       "    </tr>\n",
       "    <tr>\n",
       "      <th>4</th>\n",
       "      <td>05</td>\n",
       "      <td>Antioquia</td>\n",
       "      <td>05001</td>\n",
       "      <td>Medellín</td>\n",
       "      <td>Grande</td>\n",
       "      <td>Agroalimentos</td>\n",
       "      <td>0144</td>\n",
       "      <td>Cría de ganado porcino</td>\n",
       "      <td>Bienes primarios</td>\n",
       "      <td>No</td>\n",
       "      <td>No exportó ult. 10 años</td>\n",
       "      <td>No exportó ult. 10 años</td>\n",
       "      <td>No exportó ult. 10 años</td>\n",
       "      <td>No exportó ult. 10 años</td>\n",
       "      <td>No exportó ult. 10 años</td>\n",
       "      <td>No exportó ult. 10 años</td>\n",
       "      <td>No</td>\n",
       "      <td>2</td>\n",
       "    </tr>\n",
       "  </tbody>\n",
       "</table>\n",
       "</div>"
      ],
      "text/plain": [
       "  Cod. Depto Departamento Cod. Municipio Municipio  Tamaño Cadena productiva  \\\n",
       "0         05    Antioquia          05001  Medellín  Grande     Agroalimentos   \n",
       "1         05    Antioquia          05001  Medellín  Grande     Agroalimentos   \n",
       "2         05    Antioquia          05001  Medellín  Grande     Agroalimentos   \n",
       "3         05    Antioquia          05001  Medellín  Grande     Agroalimentos   \n",
       "4         05    Antioquia          05001  Medellín  Grande     Agroalimentos   \n",
       "\n",
       "  CIIU Rev 4 principal                    Descripción CIIU principal  \\\n",
       "0                 0113    Cultivo de hortalizas, raíces y tubérculos   \n",
       "1                 0121  Cultivo de frutas tropicales y subtropicales   \n",
       "2                 0122                   Cultivo de plátano y banano   \n",
       "3                 0125                      Cultivo de flor de corte   \n",
       "4                 0144                        Cría de ganado porcino   \n",
       "\n",
       "  Valor agregado empresa Sucursal sociedad extranjera  \\\n",
       "0       Bienes primarios                           No   \n",
       "1       Bienes primarios                           No   \n",
       "2       Bienes primarios                           No   \n",
       "3       Bienes primarios                           No   \n",
       "4       Bienes primarios                           No   \n",
       "\n",
       "         Tipo* ult 10 años      Cadena* ult 10 años  \\\n",
       "0               No Mineras            Agroalimentos   \n",
       "1  No exportó ult. 10 años  No exportó ult. 10 años   \n",
       "2  No exportó ult. 10 años  No exportó ult. 10 años   \n",
       "3               No Mineras            Agroalimentos   \n",
       "4  No exportó ult. 10 años  No exportó ult. 10 años   \n",
       "\n",
       "                        Sector* ult 10 años          Subsector* ult 10 años  \\\n",
       "0  Frutas y hortalizas frescas y procesadas  Legumbres y hortalizas frescas   \n",
       "1                   No exportó ult. 10 años         No exportó ult. 10 años   \n",
       "2                   No exportó ult. 10 años         No exportó ult. 10 años   \n",
       "3                    Flores y plantas vivas                  Flores frescas   \n",
       "4                   No exportó ult. 10 años         No exportó ult. 10 años   \n",
       "\n",
       "       Posara* ult 10 años                    Descripcion posara* ult 10 años  \\\n",
       "0               0709510000  Hongos del género agaricus, frescos o refriger...   \n",
       "1  No exportó ult. 10 años                            No exportó ult. 10 años   \n",
       "2  No exportó ult. 10 años                            No exportó ult. 10 años   \n",
       "3               0603141000   Pompones frescos, cortados para ramos o adornos.   \n",
       "4  No exportó ult. 10 años                            No exportó ult. 10 años   \n",
       "\n",
       "  Atendida por ProColombia  Número de empresas  \n",
       "0                       Si                   1  \n",
       "1                       No                   1  \n",
       "2                       No                   2  \n",
       "3                       Si                   1  \n",
       "4                       No                   2  "
      ]
     },
     "execution_count": 35,
     "metadata": {},
     "output_type": "execute_result"
    }
   ],
   "source": [
    "tejido_empresarial = pd.read_csv(file_path+'/Tejido_Municipios.txt', sep='|',low_memory=False)\n",
    "tejido_empresarial.head()"
   ]
  },
  {
   "cell_type": "markdown",
   "metadata": {
    "id": "2m0siNxmOJ2f"
   },
   "source": [
    "\n",
    "# Panorama Productivo <a name=\"id15\"></a>\n",
    "---\n",
    "Con el fin de identificar la vocación productiva de cada municipio, se consultaron las siguientes fuentes de información:"
   ]
  },
  {
   "cell_type": "markdown",
   "metadata": {
    "id": "lElTdkfyOJ2g",
    "jp-MarkdownHeadingCollapsed": true,
    "tags": []
   },
   "source": [
    "## Valor agregado 2022\n",
    "Se consultó el \"Valor Agregado por municipio 2022\" del DANE, con el objetivo de conocer el nivel de valor agregado en pesos colombianos, su participación en el total del departamento, su tasa de crecimiento respecto al año anterior y cómo la producción del territorio se distribuyó en actividades primarias, secundarias y terciarias.\n",
    "\n",
    "- Actividades primarias: incluye las actividades de agricultura, ganadería, silvicultura y pesca; y explotación de minas y canteras.\n",
    "- Actividades secundarias: incluye las actividades de industrias manufactureras y construcción.\n",
    "- Actividades terciarias: incluye las actividades de electricidad, gas y agua; comercio; reparación de vehículos automotores; transporte; alojamiento y servicios de comida; información y comunicaciones; actividades financieras y de seguros; actividades inmobiliarias; actividades profesionales, científicas y técnicas; actividades de servicios administrativos y de apoyo; administración pública ; educación; salud; actividades artísticas, de entretenimiento y recreación; actividades de los hogares individuales."
   ]
  },
  {
   "cell_type": "code",
   "execution_count": null,
   "metadata": {
    "id": "xhiDjGsjOJ2g",
    "outputId": "b7f76afb-bc34-4978-fce5-26820c873e8d",
    "scrolled": true
   },
   "outputs": [
    {
     "data": {
      "text/html": [
       "<div>\n",
       "<style scoped>\n",
       "    .dataframe tbody tr th:only-of-type {\n",
       "        vertical-align: middle;\n",
       "    }\n",
       "\n",
       "    .dataframe tbody tr th {\n",
       "        vertical-align: top;\n",
       "    }\n",
       "\n",
       "    .dataframe thead th {\n",
       "        text-align: right;\n",
       "    }\n",
       "</style>\n",
       "<table border=\"1\" class=\"dataframe\">\n",
       "  <thead>\n",
       "    <tr style=\"text-align: right;\">\n",
       "      <th></th>\n",
       "      <th>Cod. Municipio</th>\n",
       "      <th>Departamento</th>\n",
       "      <th>Municipio</th>\n",
       "      <th>Actividades primarias</th>\n",
       "      <th>Actividades secundarias</th>\n",
       "      <th>Actividades terciarias</th>\n",
       "      <th>Valor agregado 2022</th>\n",
       "      <th>Peso relativo municipal en el valor agregado departamental (%)</th>\n",
       "      <th>% Act. primarias municipio</th>\n",
       "      <th>% Act. secundarias municipio</th>\n",
       "      <th>% Act. terciarias municipio</th>\n",
       "      <th>Valor agregado 2021</th>\n",
       "      <th>Crecimiento 2022</th>\n",
       "    </tr>\n",
       "  </thead>\n",
       "  <tbody>\n",
       "    <tr>\n",
       "      <th>0</th>\n",
       "      <td>5001</td>\n",
       "      <td>Antioquia</td>\n",
       "      <td>Medellín</td>\n",
       "      <td>248,05745082980985</td>\n",
       "      <td>14642,718915061001</td>\n",
       "      <td>61999,58759774874</td>\n",
       "      <td>76890,36396363955</td>\n",
       "      <td>40,15673586573925</td>\n",
       "      <td>0,32261188274139657</td>\n",
       "      <td>19,043633246404386</td>\n",
       "      <td>80,63375487085422</td>\n",
       "      <td>66893,73873020457</td>\n",
       "      <td>14,944037249514963</td>\n",
       "    </tr>\n",
       "    <tr>\n",
       "      <th>1</th>\n",
       "      <td>5002</td>\n",
       "      <td>Antioquia</td>\n",
       "      <td>Abejorral</td>\n",
       "      <td>237,75366296686687</td>\n",
       "      <td>20,169090174685245</td>\n",
       "      <td>192,63519410499472</td>\n",
       "      <td>450,55794724654686</td>\n",
       "      <td>0,23530824341454776</td>\n",
       "      <td>52,76872029887139</td>\n",
       "      <td>4,476469741116041</td>\n",
       "      <td>42,75480996001255</td>\n",
       "      <td>335,47327916741136</td>\n",
       "      <td>34,30516682722284</td>\n",
       "    </tr>\n",
       "    <tr>\n",
       "      <th>2</th>\n",
       "      <td>5004</td>\n",
       "      <td>Antioquia</td>\n",
       "      <td>Abriaquí</td>\n",
       "      <td>29,065276717264645</td>\n",
       "      <td>2,676633276681149</td>\n",
       "      <td>26,56412700498136</td>\n",
       "      <td>58,306036998927155</td>\n",
       "      <td>0,030450891456973033</td>\n",
       "      <td>49,8495150987529</td>\n",
       "      <td>4,5906623300952525</td>\n",
       "      <td>45,55982257115184</td>\n",
       "      <td>38,19300856174034</td>\n",
       "      <td>52,661545121991104</td>\n",
       "    </tr>\n",
       "    <tr>\n",
       "      <th>3</th>\n",
       "      <td>5021</td>\n",
       "      <td>Antioquia</td>\n",
       "      <td>Alejandría</td>\n",
       "      <td>15,24404453409616</td>\n",
       "      <td>4,070759500452248</td>\n",
       "      <td>61,26389060617348</td>\n",
       "      <td>80,57869464072189</td>\n",
       "      <td>0,04208300221629443</td>\n",
       "      <td>18,918207352532995</td>\n",
       "      <td>5,051905492640007</td>\n",
       "      <td>76,029887154827</td>\n",
       "      <td>69,41186203954246</td>\n",
       "      <td>16,087787120331008</td>\n",
       "    </tr>\n",
       "    <tr>\n",
       "      <th>4</th>\n",
       "      <td>5030</td>\n",
       "      <td>Antioquia</td>\n",
       "      <td>Amagá</td>\n",
       "      <td>86,12691685488397</td>\n",
       "      <td>345,17126923220593</td>\n",
       "      <td>368,2821697967652</td>\n",
       "      <td>799,5803558838551</td>\n",
       "      <td>0,41758857026409046</td>\n",
       "      <td>10,771514860401915</td>\n",
       "      <td>43,16905320299597</td>\n",
       "      <td>46,05943193660211</td>\n",
       "      <td>647,013493033608</td>\n",
       "      <td>23,580167105158377</td>\n",
       "    </tr>\n",
       "  </tbody>\n",
       "</table>\n",
       "</div>"
      ],
      "text/plain": [
       "   Cod. Municipio Departamento   Municipio Actividades primarias  \\\n",
       "0            5001    Antioquia    Medellín    248,05745082980985   \n",
       "1            5002    Antioquia   Abejorral    237,75366296686687   \n",
       "2            5004    Antioquia    Abriaquí    29,065276717264645   \n",
       "3            5021    Antioquia  Alejandría     15,24404453409616   \n",
       "4            5030    Antioquia       Amagá     86,12691685488397   \n",
       "\n",
       "  Actividades secundarias Actividades terciarias Valor agregado 2022  \\\n",
       "0      14642,718915061001      61999,58759774874   76890,36396363955   \n",
       "1      20,169090174685245     192,63519410499472  450,55794724654686   \n",
       "2       2,676633276681149      26,56412700498136  58,306036998927155   \n",
       "3       4,070759500452248      61,26389060617348   80,57869464072189   \n",
       "4      345,17126923220593      368,2821697967652   799,5803558838551   \n",
       "\n",
       "  Peso relativo municipal en el valor agregado departamental (%)  \\\n",
       "0                                  40,15673586573925               \n",
       "1                                0,23530824341454776               \n",
       "2                               0,030450891456973033               \n",
       "3                                0,04208300221629443               \n",
       "4                                0,41758857026409046               \n",
       "\n",
       "  % Act. primarias municipio % Act. secundarias municipio  \\\n",
       "0        0,32261188274139657           19,043633246404386   \n",
       "1          52,76872029887139            4,476469741116041   \n",
       "2           49,8495150987529           4,5906623300952525   \n",
       "3         18,918207352532995            5,051905492640007   \n",
       "4         10,771514860401915            43,16905320299597   \n",
       "\n",
       "  % Act. terciarias municipio Valor agregado 2021    Crecimiento 2022  \n",
       "0           80,63375487085422   66893,73873020457  14,944037249514963  \n",
       "1           42,75480996001255  335,47327916741136   34,30516682722284  \n",
       "2           45,55982257115184   38,19300856174034  52,661545121991104  \n",
       "3             76,029887154827   69,41186203954246  16,087787120331008  \n",
       "4           46,05943193660211    647,013493033608  23,580167105158377  "
      ]
     },
     "execution_count": 88,
     "metadata": {},
     "output_type": "execute_result"
    }
   ],
   "source": [
    "valor_agregado_df = pd.read_csv(file_path+'/Valor_Agregado.txt', sep='|',low_memory=False)\n",
    "valor_agregado_df.head()"
   ]
  },
  {
   "cell_type": "markdown",
   "metadata": {
    "id": "yYwSuwukOJ2g"
   },
   "source": [
    "## Producción agropecuaria\n",
    "Se consultaron las \"Evaluaciones Agropecuarias Municipales 2023\" de la Unidad de Planificación Rural Agropecuaria (UPRA) para conocer cuáles fueron los cultivos con mayor producción en toneladas entre 2021 y 2023 y así conocer la oferta agrícola del municipio."
   ]
  },
  {
   "cell_type": "code",
   "execution_count": null,
   "metadata": {
    "id": "Ojsg6H29OJ2g",
    "outputId": "5228417e-7896-4247-df9c-4f003fd45e0a",
    "tags": []
   },
   "outputs": [
    {
     "data": {
      "text/html": [
       "<div>\n",
       "<style scoped>\n",
       "    .dataframe tbody tr th:only-of-type {\n",
       "        vertical-align: middle;\n",
       "    }\n",
       "\n",
       "    .dataframe tbody tr th {\n",
       "        vertical-align: top;\n",
       "    }\n",
       "\n",
       "    .dataframe thead th {\n",
       "        text-align: right;\n",
       "    }\n",
       "</style>\n",
       "<table border=\"1\" class=\"dataframe\">\n",
       "  <thead>\n",
       "    <tr style=\"text-align: right;\">\n",
       "      <th></th>\n",
       "      <th>Código Dane municipio</th>\n",
       "      <th>Desagregación cultivo</th>\n",
       "      <th>Producción (t)</th>\n",
       "    </tr>\n",
       "  </thead>\n",
       "  <tbody>\n",
       "    <tr>\n",
       "      <th>0</th>\n",
       "      <td>5001</td>\n",
       "      <td>Aguacate Hass</td>\n",
       "      <td>257.00</td>\n",
       "    </tr>\n",
       "    <tr>\n",
       "      <th>1</th>\n",
       "      <td>5001</td>\n",
       "      <td>Aguacate demás variedades</td>\n",
       "      <td>129.36</td>\n",
       "    </tr>\n",
       "    <tr>\n",
       "      <th>2</th>\n",
       "      <td>5001</td>\n",
       "      <td>Ahuyama</td>\n",
       "      <td>5.40</td>\n",
       "    </tr>\n",
       "    <tr>\n",
       "      <th>3</th>\n",
       "      <td>5001</td>\n",
       "      <td>Ajo</td>\n",
       "      <td>88.00</td>\n",
       "    </tr>\n",
       "    <tr>\n",
       "      <th>4</th>\n",
       "      <td>5001</td>\n",
       "      <td>Ají</td>\n",
       "      <td>38.99</td>\n",
       "    </tr>\n",
       "  </tbody>\n",
       "</table>\n",
       "</div>"
      ],
      "text/plain": [
       "   Código Dane municipio      Desagregación cultivo  Producción (t)\n",
       "0                   5001              Aguacate Hass          257.00\n",
       "1                   5001  Aguacate demás variedades          129.36\n",
       "2                   5001                    Ahuyama            5.40\n",
       "3                   5001                        Ajo           88.00\n",
       "4                   5001                        Ají           38.99"
      ]
     },
     "execution_count": 8,
     "metadata": {},
     "output_type": "execute_result"
    }
   ],
   "source": [
    "eva_df = pd.read_csv(file_path+'/eva.txt', sep='|')\n",
    "eva_df.columns = ['Código Dane municipio', 'Desagregación cultivo', 'Producción (t)']\n",
    "eva_df['Producción (t)'] = eva_df['Producción (t)'].str.replace(',', '.').astype(float)\n",
    "eva_df.head()"
   ]
  },
  {
   "cell_type": "markdown",
   "metadata": {
    "id": "p3pAdeJBOJ2g"
   },
   "source": [
    "# Talento Humano <a name=\"id16\"></a>\n",
    "---\n",
    "## Nivel educativo de la población de 20 años o más\n",
    "\n",
    "Se consultó el \"Censo Nacional de Población y Vivienda 2018\" del DANE, el cual permitió identificar el nivel educativo más alto alcanzado por la población de 20 años o más."
   ]
  },
  {
   "cell_type": "code",
   "execution_count": null,
   "metadata": {
    "id": "9DdjK-5nOJ2g",
    "outputId": "c50a89e5-d654-47ca-9d01-74a4381eacc6",
    "tags": []
   },
   "outputs": [
    {
     "data": {
      "text/html": [
       "<div>\n",
       "<style scoped>\n",
       "    .dataframe tbody tr th:only-of-type {\n",
       "        vertical-align: middle;\n",
       "    }\n",
       "\n",
       "    .dataframe tbody tr th {\n",
       "        vertical-align: top;\n",
       "    }\n",
       "\n",
       "    .dataframe thead th {\n",
       "        text-align: right;\n",
       "    }\n",
       "</style>\n",
       "<table border=\"1\" class=\"dataframe\">\n",
       "  <thead>\n",
       "    <tr style=\"text-align: right;\">\n",
       "      <th></th>\n",
       "      <th>Cod. Municipio</th>\n",
       "      <th>% pobl. con educación media municipio</th>\n",
       "      <th>% pobl. con edu. técnica/tecnología municipio</th>\n",
       "      <th>% pobl. con pregrado municipio</th>\n",
       "      <th>% pobl. con posgrado municipio</th>\n",
       "    </tr>\n",
       "  </thead>\n",
       "  <tbody>\n",
       "    <tr>\n",
       "      <th>0</th>\n",
       "      <td>5001</td>\n",
       "      <td>30.807327</td>\n",
       "      <td>13.127973</td>\n",
       "      <td>14.786500</td>\n",
       "      <td>4.611988</td>\n",
       "    </tr>\n",
       "    <tr>\n",
       "      <th>1</th>\n",
       "      <td>5002</td>\n",
       "      <td>13.949377</td>\n",
       "      <td>3.198072</td>\n",
       "      <td>2.354359</td>\n",
       "      <td>1.189233</td>\n",
       "    </tr>\n",
       "    <tr>\n",
       "      <th>2</th>\n",
       "      <td>5004</td>\n",
       "      <td>24.140212</td>\n",
       "      <td>6.613757</td>\n",
       "      <td>3.174603</td>\n",
       "      <td>1.322751</td>\n",
       "    </tr>\n",
       "    <tr>\n",
       "      <th>3</th>\n",
       "      <td>5021</td>\n",
       "      <td>16.578947</td>\n",
       "      <td>7.631579</td>\n",
       "      <td>4.097744</td>\n",
       "      <td>1.052632</td>\n",
       "    </tr>\n",
       "    <tr>\n",
       "      <th>4</th>\n",
       "      <td>5030</td>\n",
       "      <td>26.830144</td>\n",
       "      <td>7.479608</td>\n",
       "      <td>3.770584</td>\n",
       "      <td>0.969579</td>\n",
       "    </tr>\n",
       "  </tbody>\n",
       "</table>\n",
       "</div>"
      ],
      "text/plain": [
       "   Cod. Municipio  % pobl. con educación media municipio  \\\n",
       "0            5001                              30.807327   \n",
       "1            5002                              13.949377   \n",
       "2            5004                              24.140212   \n",
       "3            5021                              16.578947   \n",
       "4            5030                              26.830144   \n",
       "\n",
       "   % pobl. con edu. técnica/tecnología municipio  \\\n",
       "0                                      13.127973   \n",
       "1                                       3.198072   \n",
       "2                                       6.613757   \n",
       "3                                       7.631579   \n",
       "4                                       7.479608   \n",
       "\n",
       "   % pobl. con pregrado municipio  % pobl. con posgrado municipio  \n",
       "0                       14.786500                        4.611988  \n",
       "1                        2.354359                        1.189233  \n",
       "2                        3.174603                        1.322751  \n",
       "3                        4.097744                        1.052632  \n",
       "4                        3.770584                        0.969579  "
      ]
     },
     "execution_count": 13,
     "metadata": {},
     "output_type": "execute_result"
    }
   ],
   "source": [
    "nivel_educativo_df = datos_censo_df[['Cod. Municipio','% pobl. con educación media municipio','% pobl. con edu. técnica/tecnología municipio','% pobl. con pregrado municipio','% pobl. con posgrado municipio']]\n",
    "nivel_educativo_df.head()"
   ]
  },
  {
   "cell_type": "markdown",
   "metadata": {
    "id": "JcP8oR0uOJ2g"
   },
   "source": [
    "## Graduados en programas de educación superior ofrecidos en el municipio entre 2018 y 2022\n",
    "\n",
    "Se consultó el \"Tablero de Graduados en Colombia 2001 – 2022\", elaborado por la Coordinación de Analítica - Gerencia de Inteligencia Comercial de ProColombia, el cual utiliza como fuente el Sistema Nacional de Información de la Educación Superior del Ministerio de Educación Nacional.\n",
    "\n",
    "Específicamente, se calculó la suma de graduados 2018-2022 de programas técnicos, tecnológicos, pregrado y posgrado ofrecidos en cada municipio. De esta forma es posible identificar, para cada territorio, el número de personas que se graduaron de educación superior y en qué ramas del conocimiento se formaron principalmente.\n",
    "\n",
    "Es importante tener en cuenta que los datos se refieren a las personas que se graduaron en programas ofrecidos en el municipio y que no necesariamente estos graduados residen en el mismo.\n",
    "\n",
    "En el \"Tablero de Graduados en Colombia 2001 – 2022\", los programas académicos se clasificaron teniendo en cuenta el campo amplio al que pertenecen de la Clasificación Internacional Normalizada de la Educación - Campos de Educación y Formación (CINE) - 2013 Adaptada a Colombia. La UNESCO define un campo como la esfera amplia, la rama o el área de contenido cubierto por un programa de educación. Teniendo en cuenta lo anterior, las categorías consideradas fueron las siguientes:\n",
    "\n",
    "- **Administración de Empresas y Derecho:** se enfoca en la administración de empresas, comercio, marketing, contabilidad, finanzas, y recursos humanos, además de abarcar todas las ramas del derecho.\n",
    "- **Agropecuario, Silvicultura, Pesca y Veterinaria:** trata sobre la producción agrícola, agronomía, ciencias del suelo, horticultura, gestión forestal, pesca comercial y acuicultura, así como la medicina veterinaria y el cuidado de animales.\n",
    "- **Arte y Humanidades:** incluye las artes visuales y escénicas, música, diseño, cine, fotografía, y artesanías. En humanidades, abarca historia, filosofía, arqueología, teología, ética, religión, estudios culturales y lingüística.\n",
    "- **Ciencias Naturales, Matemáticas y Estadística:** comprende las ciencias biológicas como biología, bioquímica, genética y biotecnología, así como ciencias ambientales, física, química, astronomía y matemáticas y estadística.\n",
    "- **Ciencias Sociales, Periodismo e Información:** abarca las ciencias sociales y del comportamiento como sociología, psicología, antropología, ciencias políticas y economía. También incluye periodismo y bibliotecología y archivística.\n",
    "- **Educación:** abarca las teoría y práctica educativa, pedagogía, desarrollo curricular, evaluación educativa, y orientación y consejería. También cubre la formación docente tanto general como especializada.\n",
    "- **Ingeniería, Industria y Construcción:** incluye todas las ramas de la ingeniería, tecnología de alimentos, textiles y construcción.\n",
    "- **Salud y Bienestar:** enfocado en la medicina, enfermería, odontología, farmacia, salud pública y fisioterapia.\n",
    "- **Servicios:** abarca servicios personales, gestión y operación de transportes y servicios de seguridad.\n",
    "- **Tecnologías de la Información y la Comunicación (TIC):** se centra en las ciencias de la computación, programación, redes, ciberseguridad, desarrollo de software, y gestión de bases de datos.\n",
    "\n",
    "En esta sección se omitió la categoría de programas y certificaciones genéricos, ya que son programas de educación que abarcan una amplia gama de temas y no se especializan en un campo específico. De igual forma se omitieron los programas no clasificados en ningún campo amplio de educación."
   ]
  },
  {
   "cell_type": "code",
   "execution_count": null,
   "metadata": {
    "id": "LJk6CjWHOJ2g",
    "outputId": "1a280f45-a936-40f3-c909-164e0a7748d2",
    "tags": []
   },
   "outputs": [
    {
     "data": {
      "text/html": [
       "<div>\n",
       "<style scoped>\n",
       "    .dataframe tbody tr th:only-of-type {\n",
       "        vertical-align: middle;\n",
       "    }\n",
       "\n",
       "    .dataframe tbody tr th {\n",
       "        vertical-align: top;\n",
       "    }\n",
       "\n",
       "    .dataframe thead th {\n",
       "        text-align: right;\n",
       "    }\n",
       "</style>\n",
       "<table border=\"1\" class=\"dataframe\">\n",
       "  <thead>\n",
       "    <tr style=\"text-align: right;\">\n",
       "      <th></th>\n",
       "      <th>Cod. Departamento</th>\n",
       "      <th>Cod. Municipio</th>\n",
       "      <th>Campo</th>\n",
       "      <th>Graduados</th>\n",
       "    </tr>\n",
       "  </thead>\n",
       "  <tbody>\n",
       "    <tr>\n",
       "      <th>0</th>\n",
       "      <td>5</td>\n",
       "      <td>5001</td>\n",
       "      <td>ADMINISTRACIÓN DE EMPRESAS Y DERECHO</td>\n",
       "      <td>94290</td>\n",
       "    </tr>\n",
       "    <tr>\n",
       "      <th>1</th>\n",
       "      <td>5</td>\n",
       "      <td>5001</td>\n",
       "      <td>AGROPECUARIO, SILVICULTURA, PESCA Y VETERINARIA</td>\n",
       "      <td>3115</td>\n",
       "    </tr>\n",
       "    <tr>\n",
       "      <th>2</th>\n",
       "      <td>5</td>\n",
       "      <td>5001</td>\n",
       "      <td>ARTE Y HUMANIDADES</td>\n",
       "      <td>9051</td>\n",
       "    </tr>\n",
       "    <tr>\n",
       "      <th>3</th>\n",
       "      <td>5</td>\n",
       "      <td>5001</td>\n",
       "      <td>CIENCIAS NATURALES, MATEMÁTICAS Y ESTADÍSTICA</td>\n",
       "      <td>6018</td>\n",
       "    </tr>\n",
       "    <tr>\n",
       "      <th>4</th>\n",
       "      <td>5</td>\n",
       "      <td>5001</td>\n",
       "      <td>CIENCIAS SOCIALES, PERIODISMO E INFORMACIÓN</td>\n",
       "      <td>23092</td>\n",
       "    </tr>\n",
       "  </tbody>\n",
       "</table>\n",
       "</div>"
      ],
      "text/plain": [
       "   Cod. Departamento  Cod. Municipio  \\\n",
       "0                  5            5001   \n",
       "1                  5            5001   \n",
       "2                  5            5001   \n",
       "3                  5            5001   \n",
       "4                  5            5001   \n",
       "\n",
       "                                             Campo  Graduados  \n",
       "0             ADMINISTRACIÓN DE EMPRESAS Y DERECHO      94290  \n",
       "1  AGROPECUARIO, SILVICULTURA, PESCA Y VETERINARIA       3115  \n",
       "2                               ARTE Y HUMANIDADES       9051  \n",
       "3    CIENCIAS NATURALES, MATEMÁTICAS Y ESTADÍSTICA       6018  \n",
       "4      CIENCIAS SOCIALES, PERIODISMO E INFORMACIÓN      23092  "
      ]
     },
     "execution_count": 31,
     "metadata": {},
     "output_type": "execute_result"
    }
   ],
   "source": [
    "graduados_df = pd.read_csv(file_path+\"/Graduados_municipio_2018-2022.csv\", sep=';')\n",
    "graduados_df.columns = ['Cod. Departamento','Cod. Municipio','Campo', 'Graduados']\n",
    "graduados_df.head()"
   ]
  },
  {
   "cell_type": "markdown",
   "metadata": {
    "id": "LglPm8GZOJ2g"
   },
   "source": [
    "# Exportaciones <a name=\"id17\"></a>\n",
    "---\n",
    "Se consultó el \"Tejido Empresarial de Colombia\" de ProColombia, el cual permite identificar las empresas con sede principal en el municipio que realizaron al menos una exportación en los últimos 10 años (2013-2022)."
   ]
  },
  {
   "cell_type": "markdown",
   "metadata": {
    "id": "esYRYp0gScoN"
   },
   "source": [
    "**Los municipios que más exportan:**\n",
    "\n",
    "Para obtener esta información usaremos las fuentes DIVIPOLA (El geovisor de consulta de la codificación de la División Político Administrativa de Colombia (Divipola) es una herramienta de consulta geográfica de los códigos DANE, asignados con fines estadísticos a las entidades territoriales (departamentos y municipios) y además a los centros poblados) y EVA (contiene información sobre la producción de cultivos por municipio, lo cual podría estar relacionado con exportaciones. Voy a cargar y analizar este archivo para identificar los municipios que más exportan, junto con los productos y las cantidades).\n"
   ]
  },
  {
   "cell_type": "code",
   "execution_count": 28,
   "metadata": {
    "colab": {
     "base_uri": "https://localhost:8080/",
     "height": 206
    },
    "executionInfo": {
     "elapsed": 474,
     "status": "ok",
     "timestamp": 1729609076351,
     "user": {
      "displayName": "Diego Hatun",
      "userId": "03029148694079055063"
     },
     "user_tz": 300
    },
    "id": "POhTojmsTmPs",
    "outputId": "d825d16e-67d9-425c-90c7-14daa361c40e"
   },
   "outputs": [
    {
     "data": {
      "application/vnd.google.colaboratory.intrinsic+json": {
       "summary": "{\n  \"name\": \"exports_df\",\n  \"rows\": 18672,\n  \"fields\": [\n    {\n      \"column\": \"C\\u00f3digo Dane municipio\",\n      \"properties\": {\n        \"dtype\": \"category\",\n        \"num_unique_values\": 1098,\n        \"samples\": [\n          \"05250\",\n          \"25899\",\n          \"05347\"\n        ],\n        \"semantic_type\": \"\",\n        \"description\": \"\"\n      }\n    },\n    {\n      \"column\": \"Desagregaci\\u00f3n cultivo\",\n      \"properties\": {\n        \"dtype\": \"category\",\n        \"num_unique_values\": 186,\n        \"samples\": [\n          \"Sorgo\",\n          \"Ruda\",\n          \"Alcachofa\"\n        ],\n        \"semantic_type\": \"\",\n        \"description\": \"\"\n      }\n    },\n    {\n      \"column\": \"Producci\\u00f3n (t)\",\n      \"properties\": {\n        \"dtype\": \"number\",\n        \"std\": 6527196696199497.0,\n        \"min\": 0.0,\n        \"max\": 8.0985043e+16,\n        \"num_unique_values\": 11836,\n        \"samples\": [\n          7845261596.0,\n          59975.0,\n          4593457943925236.0\n        ],\n        \"semantic_type\": \"\",\n        \"description\": \"\"\n      }\n    }\n  ]\n}",
       "type": "dataframe",
       "variable_name": "exports_df"
      },
      "text/html": [
       "\n",
       "  <div id=\"df-95be1e1e-3e41-4160-9fb2-36e1874e12a1\" class=\"colab-df-container\">\n",
       "    <div>\n",
       "<style scoped>\n",
       "    .dataframe tbody tr th:only-of-type {\n",
       "        vertical-align: middle;\n",
       "    }\n",
       "\n",
       "    .dataframe tbody tr th {\n",
       "        vertical-align: top;\n",
       "    }\n",
       "\n",
       "    .dataframe thead th {\n",
       "        text-align: right;\n",
       "    }\n",
       "</style>\n",
       "<table border=\"1\" class=\"dataframe\">\n",
       "  <thead>\n",
       "    <tr style=\"text-align: right;\">\n",
       "      <th></th>\n",
       "      <th>Código Dane municipio</th>\n",
       "      <th>Desagregación cultivo</th>\n",
       "      <th>Producción (t)</th>\n",
       "    </tr>\n",
       "  </thead>\n",
       "  <tbody>\n",
       "    <tr>\n",
       "      <th>0</th>\n",
       "      <td>05001</td>\n",
       "      <td>Aguacate Hass</td>\n",
       "      <td>2.570000e+03</td>\n",
       "    </tr>\n",
       "    <tr>\n",
       "      <th>1</th>\n",
       "      <td>05001</td>\n",
       "      <td>Aguacate demás variedades</td>\n",
       "      <td>1.293600e+04</td>\n",
       "    </tr>\n",
       "    <tr>\n",
       "      <th>2</th>\n",
       "      <td>05001</td>\n",
       "      <td>Ahuyama</td>\n",
       "      <td>5.400000e+01</td>\n",
       "    </tr>\n",
       "    <tr>\n",
       "      <th>3</th>\n",
       "      <td>05001</td>\n",
       "      <td>Ajo</td>\n",
       "      <td>8.800000e+02</td>\n",
       "    </tr>\n",
       "    <tr>\n",
       "      <th>4</th>\n",
       "      <td>05001</td>\n",
       "      <td>Ají</td>\n",
       "      <td>3.899000e+16</td>\n",
       "    </tr>\n",
       "  </tbody>\n",
       "</table>\n",
       "</div>\n",
       "    <div class=\"colab-df-buttons\">\n",
       "\n",
       "  <div class=\"colab-df-container\">\n",
       "    <button class=\"colab-df-convert\" onclick=\"convertToInteractive('df-95be1e1e-3e41-4160-9fb2-36e1874e12a1')\"\n",
       "            title=\"Convert this dataframe to an interactive table.\"\n",
       "            style=\"display:none;\">\n",
       "\n",
       "  <svg xmlns=\"http://www.w3.org/2000/svg\" height=\"24px\" viewBox=\"0 -960 960 960\">\n",
       "    <path d=\"M120-120v-720h720v720H120Zm60-500h600v-160H180v160Zm220 220h160v-160H400v160Zm0 220h160v-160H400v160ZM180-400h160v-160H180v160Zm440 0h160v-160H620v160ZM180-180h160v-160H180v160Zm440 0h160v-160H620v160Z\"/>\n",
       "  </svg>\n",
       "    </button>\n",
       "\n",
       "  <style>\n",
       "    .colab-df-container {\n",
       "      display:flex;\n",
       "      gap: 12px;\n",
       "    }\n",
       "\n",
       "    .colab-df-convert {\n",
       "      background-color: #E8F0FE;\n",
       "      border: none;\n",
       "      border-radius: 50%;\n",
       "      cursor: pointer;\n",
       "      display: none;\n",
       "      fill: #1967D2;\n",
       "      height: 32px;\n",
       "      padding: 0 0 0 0;\n",
       "      width: 32px;\n",
       "    }\n",
       "\n",
       "    .colab-df-convert:hover {\n",
       "      background-color: #E2EBFA;\n",
       "      box-shadow: 0px 1px 2px rgba(60, 64, 67, 0.3), 0px 1px 3px 1px rgba(60, 64, 67, 0.15);\n",
       "      fill: #174EA6;\n",
       "    }\n",
       "\n",
       "    .colab-df-buttons div {\n",
       "      margin-bottom: 4px;\n",
       "    }\n",
       "\n",
       "    [theme=dark] .colab-df-convert {\n",
       "      background-color: #3B4455;\n",
       "      fill: #D2E3FC;\n",
       "    }\n",
       "\n",
       "    [theme=dark] .colab-df-convert:hover {\n",
       "      background-color: #434B5C;\n",
       "      box-shadow: 0px 1px 3px 1px rgba(0, 0, 0, 0.15);\n",
       "      filter: drop-shadow(0px 1px 2px rgba(0, 0, 0, 0.3));\n",
       "      fill: #FFFFFF;\n",
       "    }\n",
       "  </style>\n",
       "\n",
       "    <script>\n",
       "      const buttonEl =\n",
       "        document.querySelector('#df-95be1e1e-3e41-4160-9fb2-36e1874e12a1 button.colab-df-convert');\n",
       "      buttonEl.style.display =\n",
       "        google.colab.kernel.accessAllowed ? 'block' : 'none';\n",
       "\n",
       "      async function convertToInteractive(key) {\n",
       "        const element = document.querySelector('#df-95be1e1e-3e41-4160-9fb2-36e1874e12a1');\n",
       "        const dataTable =\n",
       "          await google.colab.kernel.invokeFunction('convertToInteractive',\n",
       "                                                    [key], {});\n",
       "        if (!dataTable) return;\n",
       "\n",
       "        const docLinkHtml = 'Like what you see? Visit the ' +\n",
       "          '<a target=\"_blank\" href=https://colab.research.google.com/notebooks/data_table.ipynb>data table notebook</a>'\n",
       "          + ' to learn more about interactive tables.';\n",
       "        element.innerHTML = '';\n",
       "        dataTable['output_type'] = 'display_data';\n",
       "        await google.colab.output.renderOutput(dataTable, element);\n",
       "        const docLink = document.createElement('div');\n",
       "        docLink.innerHTML = docLinkHtml;\n",
       "        element.appendChild(docLink);\n",
       "      }\n",
       "    </script>\n",
       "  </div>\n",
       "\n",
       "\n",
       "<div id=\"df-c5ecf5cc-c2a2-4522-a5f4-c6b05c3f814e\">\n",
       "  <button class=\"colab-df-quickchart\" onclick=\"quickchart('df-c5ecf5cc-c2a2-4522-a5f4-c6b05c3f814e')\"\n",
       "            title=\"Suggest charts\"\n",
       "            style=\"display:none;\">\n",
       "\n",
       "<svg xmlns=\"http://www.w3.org/2000/svg\" height=\"24px\"viewBox=\"0 0 24 24\"\n",
       "     width=\"24px\">\n",
       "    <g>\n",
       "        <path d=\"M19 3H5c-1.1 0-2 .9-2 2v14c0 1.1.9 2 2 2h14c1.1 0 2-.9 2-2V5c0-1.1-.9-2-2-2zM9 17H7v-7h2v7zm4 0h-2V7h2v10zm4 0h-2v-4h2v4z\"/>\n",
       "    </g>\n",
       "</svg>\n",
       "  </button>\n",
       "\n",
       "<style>\n",
       "  .colab-df-quickchart {\n",
       "      --bg-color: #E8F0FE;\n",
       "      --fill-color: #1967D2;\n",
       "      --hover-bg-color: #E2EBFA;\n",
       "      --hover-fill-color: #174EA6;\n",
       "      --disabled-fill-color: #AAA;\n",
       "      --disabled-bg-color: #DDD;\n",
       "  }\n",
       "\n",
       "  [theme=dark] .colab-df-quickchart {\n",
       "      --bg-color: #3B4455;\n",
       "      --fill-color: #D2E3FC;\n",
       "      --hover-bg-color: #434B5C;\n",
       "      --hover-fill-color: #FFFFFF;\n",
       "      --disabled-bg-color: #3B4455;\n",
       "      --disabled-fill-color: #666;\n",
       "  }\n",
       "\n",
       "  .colab-df-quickchart {\n",
       "    background-color: var(--bg-color);\n",
       "    border: none;\n",
       "    border-radius: 50%;\n",
       "    cursor: pointer;\n",
       "    display: none;\n",
       "    fill: var(--fill-color);\n",
       "    height: 32px;\n",
       "    padding: 0;\n",
       "    width: 32px;\n",
       "  }\n",
       "\n",
       "  .colab-df-quickchart:hover {\n",
       "    background-color: var(--hover-bg-color);\n",
       "    box-shadow: 0 1px 2px rgba(60, 64, 67, 0.3), 0 1px 3px 1px rgba(60, 64, 67, 0.15);\n",
       "    fill: var(--button-hover-fill-color);\n",
       "  }\n",
       "\n",
       "  .colab-df-quickchart-complete:disabled,\n",
       "  .colab-df-quickchart-complete:disabled:hover {\n",
       "    background-color: var(--disabled-bg-color);\n",
       "    fill: var(--disabled-fill-color);\n",
       "    box-shadow: none;\n",
       "  }\n",
       "\n",
       "  .colab-df-spinner {\n",
       "    border: 2px solid var(--fill-color);\n",
       "    border-color: transparent;\n",
       "    border-bottom-color: var(--fill-color);\n",
       "    animation:\n",
       "      spin 1s steps(1) infinite;\n",
       "  }\n",
       "\n",
       "  @keyframes spin {\n",
       "    0% {\n",
       "      border-color: transparent;\n",
       "      border-bottom-color: var(--fill-color);\n",
       "      border-left-color: var(--fill-color);\n",
       "    }\n",
       "    20% {\n",
       "      border-color: transparent;\n",
       "      border-left-color: var(--fill-color);\n",
       "      border-top-color: var(--fill-color);\n",
       "    }\n",
       "    30% {\n",
       "      border-color: transparent;\n",
       "      border-left-color: var(--fill-color);\n",
       "      border-top-color: var(--fill-color);\n",
       "      border-right-color: var(--fill-color);\n",
       "    }\n",
       "    40% {\n",
       "      border-color: transparent;\n",
       "      border-right-color: var(--fill-color);\n",
       "      border-top-color: var(--fill-color);\n",
       "    }\n",
       "    60% {\n",
       "      border-color: transparent;\n",
       "      border-right-color: var(--fill-color);\n",
       "    }\n",
       "    80% {\n",
       "      border-color: transparent;\n",
       "      border-right-color: var(--fill-color);\n",
       "      border-bottom-color: var(--fill-color);\n",
       "    }\n",
       "    90% {\n",
       "      border-color: transparent;\n",
       "      border-bottom-color: var(--fill-color);\n",
       "    }\n",
       "  }\n",
       "</style>\n",
       "\n",
       "  <script>\n",
       "    async function quickchart(key) {\n",
       "      const quickchartButtonEl =\n",
       "        document.querySelector('#' + key + ' button');\n",
       "      quickchartButtonEl.disabled = true;  // To prevent multiple clicks.\n",
       "      quickchartButtonEl.classList.add('colab-df-spinner');\n",
       "      try {\n",
       "        const charts = await google.colab.kernel.invokeFunction(\n",
       "            'suggestCharts', [key], {});\n",
       "      } catch (error) {\n",
       "        console.error('Error during call to suggestCharts:', error);\n",
       "      }\n",
       "      quickchartButtonEl.classList.remove('colab-df-spinner');\n",
       "      quickchartButtonEl.classList.add('colab-df-quickchart-complete');\n",
       "    }\n",
       "    (() => {\n",
       "      let quickchartButtonEl =\n",
       "        document.querySelector('#df-c5ecf5cc-c2a2-4522-a5f4-c6b05c3f814e button');\n",
       "      quickchartButtonEl.style.display =\n",
       "        google.colab.kernel.accessAllowed ? 'block' : 'none';\n",
       "    })();\n",
       "  </script>\n",
       "</div>\n",
       "\n",
       "    </div>\n",
       "  </div>\n"
      ],
      "text/plain": [
       "  Código Dane municipio      Desagregación cultivo  Producción (t)\n",
       "0                 05001              Aguacate Hass    2.570000e+03\n",
       "1                 05001  Aguacate demás variedades    1.293600e+04\n",
       "2                 05001                    Ahuyama    5.400000e+01\n",
       "3                 05001                        Ajo    8.800000e+02\n",
       "4                 05001                        Ají    3.899000e+16"
      ]
     },
     "execution_count": 28,
     "metadata": {},
     "output_type": "execute_result"
    }
   ],
   "source": [
    "import pandas as pd\n",
    "municipios_df = pd.read_csv('DIVIPOLA_Municipios.csv')\n",
    "exports_df = pd.read_csv('eva.txt', sep='\\t')\n",
    "#Divida las columnas en export_df para separar los datos dado que esta de esta forma: Código Dane municipio|Desagregación cultivo|Producción (t)\n",
    "exports_df[['Código Dane municipio', 'Desagregación cultivo', 'Producción (t)']] = exports_df['Código Dane municipio|Desagregación cultivo|Producción (t)'].str.split('|', expand=True)\n",
    "exports_df['Producción (t)'] = exports_df['Producción (t)'].str.replace(',', '').astype(float)\n",
    "exports_df.drop(columns=['Código Dane municipio|Desagregación cultivo|Producción (t)'], inplace=True)\n",
    "exports_df.head()"
   ]
  },
  {
   "cell_type": "markdown",
   "metadata": {
    "id": "vGj8SHrsU4hD"
   },
   "source": [
    "Consulta la información básica de municipios y producción de cultivos:"
   ]
  },
  {
   "cell_type": "code",
   "execution_count": 3,
   "metadata": {
    "colab": {
     "base_uri": "https://localhost:8080/"
    },
    "executionInfo": {
     "elapsed": 501,
     "status": "ok",
     "timestamp": 1729603269486,
     "user": {
      "displayName": "Diego Hatun",
      "userId": "03029148694079055063"
     },
     "user_tz": 300
    },
    "id": "s9vPziFYU12x",
    "outputId": "11e64da3-9513-4aaa-ee7c-24a50c791dd6"
   },
   "outputs": [
    {
     "name": "stdout",
     "output_type": "stream",
     "text": [
      "<class 'pandas.core.frame.DataFrame'>\n",
      "RangeIndex: 1122 entries, 0 to 1121\n",
      "Data columns (total 7 columns):\n",
      " #   Column               Non-Null Count  Dtype  \n",
      "---  ------               --------------  -----  \n",
      " 0   Cod. Departamento    1122 non-null   int64  \n",
      " 1   Nombre Departamento  1122 non-null   object \n",
      " 2   Cod. Municipio       1122 non-null   int64  \n",
      " 3   Nombre Municipio     1122 non-null   object \n",
      " 4   Tipo                 1122 non-null   object \n",
      " 5   LATITUD              1122 non-null   float64\n",
      " 6   LONGITUD             1122 non-null   float64\n",
      "dtypes: float64(2), int64(2), object(3)\n",
      "memory usage: 61.5+ KB\n",
      "<class 'pandas.core.frame.DataFrame'>\n",
      "RangeIndex: 18672 entries, 0 to 18671\n",
      "Data columns (total 1 columns):\n",
      " #   Column                                                      Non-Null Count  Dtype \n",
      "---  ------                                                      --------------  ----- \n",
      " 0   Código Dane municipio|Desagregación cultivo|Producción (t)  18672 non-null  object\n",
      "dtypes: object(1)\n",
      "memory usage: 146.0+ KB\n"
     ]
    },
    {
     "data": {
      "text/plain": [
       "(None, None)"
      ]
     },
     "execution_count": 3,
     "metadata": {},
     "output_type": "execute_result"
    }
   ],
   "source": [
    "df_info_municipios = municipios_df.info()\n",
    "df_info_exports = exports_df.info()\n",
    "(df_info_municipios, df_info_exports)\n"
   ]
  },
  {
   "cell_type": "markdown",
   "metadata": {
    "id": "DQzkC_rqVHnW"
   },
   "source": [
    "Verificamos valores faltantes:\n"
   ]
  },
  {
   "cell_type": "code",
   "execution_count": 4,
   "metadata": {
    "colab": {
     "base_uri": "https://localhost:8080/"
    },
    "executionInfo": {
     "elapsed": 459,
     "status": "ok",
     "timestamp": 1729603272971,
     "user": {
      "displayName": "Diego Hatun",
      "userId": "03029148694079055063"
     },
     "user_tz": 300
    },
    "id": "JFKYypSdVN7b",
    "outputId": "1dc3a4f7-2c90-4aff-84c6-a6a2d45fcac5"
   },
   "outputs": [
    {
     "data": {
      "text/plain": [
       "(Cod. Departamento      0\n",
       " Nombre Departamento    0\n",
       " Cod. Municipio         0\n",
       " Nombre Municipio       0\n",
       " Tipo                   0\n",
       " LATITUD                0\n",
       " LONGITUD               0\n",
       " dtype: int64,\n",
       " Código Dane municipio|Desagregación cultivo|Producción (t)    0\n",
       " dtype: int64)"
      ]
     },
     "execution_count": 4,
     "metadata": {},
     "output_type": "execute_result"
    }
   ],
   "source": [
    "missing_values_municipios = municipios_df.isnull().sum()\n",
    "missing_values_exports = exports_df.isnull().sum()\n",
    "(missing_values_municipios, missing_values_exports)"
   ]
  },
  {
   "cell_type": "markdown",
   "metadata": {
    "id": "PkHt6lzJVgLz"
   },
   "source": [
    "Verificamos los valores duplicados:"
   ]
  },
  {
   "cell_type": "code",
   "execution_count": 5,
   "metadata": {
    "colab": {
     "base_uri": "https://localhost:8080/"
    },
    "executionInfo": {
     "elapsed": 2,
     "status": "ok",
     "timestamp": 1729603273382,
     "user": {
      "displayName": "Diego Hatun",
      "userId": "03029148694079055063"
     },
     "user_tz": 300
    },
    "id": "yomNKmn1VkhD",
    "outputId": "4a043376-4ddf-4308-fbd4-191ba51309c4"
   },
   "outputs": [
    {
     "data": {
      "text/plain": [
       "(0, 0)"
      ]
     },
     "execution_count": 5,
     "metadata": {},
     "output_type": "execute_result"
    }
   ],
   "source": [
    "duplicates_municipios = municipios_df.duplicated().sum()\n",
    "duplicates_exports = exports_df.duplicated().sum()\n",
    "(duplicates_municipios, duplicates_exports)"
   ]
  },
  {
   "cell_type": "markdown",
   "metadata": {
    "id": "pzbs8qTGX0BK"
   },
   "source": [
    "Se evidencia que no hay datos faltantes o duplicados, a continuación las estadisticas descriptivas:"
   ]
  },
  {
   "cell_type": "code",
   "execution_count": 26,
   "metadata": {
    "colab": {
     "base_uri": "https://localhost:8080/"
    },
    "executionInfo": {
     "elapsed": 394,
     "status": "ok",
     "timestamp": 1729608716889,
     "user": {
      "displayName": "Diego Hatun",
      "userId": "03029148694079055063"
     },
     "user_tz": 300
    },
    "id": "3N1MXocmX8S2",
    "outputId": "b7dff646-cf4a-4266-95d6-e6773b6bfa2b"
   },
   "outputs": [
    {
     "data": {
      "text/plain": [
       "(       Cod. Departamento  Cod. Municipio      LATITUD     LONGITUD\n",
       " count        1122.000000     1122.000000  1122.000000  1122.000000\n",
       " mean           38.222816    38656.544563     5.603231   -74.641414\n",
       " std            26.538214    26524.369769     2.648580     1.678501\n",
       " min             5.000000     5001.000000    -3.631323   -81.717624\n",
       " 25%            15.000000    15677.250000     4.232039   -75.778075\n",
       " 50%            25.000000    25840.000000     5.530754   -74.731032\n",
       " 75%            66.000000    66452.000000     7.011615   -73.446673\n",
       " max            99.000000    99773.000000    13.351110   -67.001518,\n",
       "        Código Dane municipio|Desagregación cultivo|Producción (t)  \\\n",
       " count                                               18672           \n",
       " unique                                              18672           \n",
       " top                             05001|Aguacate Hass|257,0           \n",
       " freq                                                    1           \n",
       " \n",
       "        Código Dane municipio      Desagregación cultivo Producción (t)  \n",
       " count                  18672                      18672          18672  \n",
       " unique                  1098                        186          12061  \n",
       " top                    47288  Maíz amarillo tradicional            0,0  \n",
       " freq                      57                        975            269  )"
      ]
     },
     "execution_count": 26,
     "metadata": {},
     "output_type": "execute_result"
    }
   ],
   "source": [
    "stats_municipios = municipios_df.describe()\n",
    "stats_exports = exports_df.describe()\n",
    "(stats_municipios, stats_exports)"
   ]
  },
  {
   "cell_type": "markdown",
   "metadata": {
    "id": "_MdoTlP6YMWH"
   },
   "source": [
    "El `municipios_df` contiene información sobre los municipios, incluidas sus coordenadas geográficas, mientras que el `exports_df` contiene datos sobre la producción agrícola por municipio."
   ]
  },
  {
   "cell_type": "code",
   "execution_count": 31,
   "metadata": {
    "colab": {
     "base_uri": "https://localhost:8080/",
     "height": 607
    },
    "executionInfo": {
     "elapsed": 473,
     "status": "ok",
     "timestamp": 1729609227962,
     "user": {
      "displayName": "Diego Hatun",
      "userId": "03029148694079055063"
     },
     "user_tz": 300
    },
    "id": "p-fzk4fFYhlZ",
    "outputId": "e1fc4b0d-b0b2-446e-8925-8f294e95da6e"
   },
   "outputs": [
    {
     "data": {
      "image/png": "[encoded data removed]",
      "text/plain": [
       "<Figure size 1200x600 with 1 Axes>"
      ]
     },
     "metadata": {},
     "output_type": "display_data"
    }
   ],
   "source": [
    "import matplotlib.pyplot as plt\n",
    "exports_df['Código Dane municipio'] = exports_df['Código Dane municipio'].astype(int)\n",
    "merged_df = pd.merge(exports_df, municipios_df, left_on='Código Dane municipio', right_on='Cod. Municipio')\n",
    "municipality_exports = merged_df.groupby('Nombre Municipio')['Producción (t)'].sum().reset_index()\n",
    "municipality_exports = municipality_exports.sort_values(by='Producción (t)', ascending=False)\n",
    "plt.figure(figsize=(12, 6))\n",
    "plt.bar(municipality_exports['Nombre Municipio'].head(10), municipality_exports['Producción (t)'].head(10))\n",
    "plt.xticks(rotation=45, ha='right')\n",
    "plt.title('Los 10 principales municipios exportadores')\n",
    "plt.xlabel('Municipio')\n",
    "plt.ylabel('Producción total (t)')\n",
    "plt.tight_layout()\n",
    "plt.show()"
   ]
  },
  {
   "cell_type": "markdown",
   "metadata": {
    "id": "k8pr3CU-qzi7"
   },
   "source": [
    "Productos"
   ]
  },
  {
   "cell_type": "code",
   "execution_count": 34,
   "metadata": {
    "colab": {
     "base_uri": "https://localhost:8080/",
     "height": 607
    },
    "executionInfo": {
     "elapsed": 2339,
     "status": "ok",
     "timestamp": 1729617225734,
     "user": {
      "displayName": "Diego Hatun",
      "userId": "03029148694079055063"
     },
     "user_tz": 300
    },
    "id": "_Umx691cqyzX",
    "outputId": "28bbaf73-1fd7-42cc-c7eb-833f18fbe906"
   },
   "outputs": [
    {
     "data": {
      "image/png": "[encoded data removed]",
      "text/plain": [
       "<Figure size 1200x600 with 1 Axes>"
      ]
     },
     "metadata": {},
     "output_type": "display_data"
    }
   ],
   "source": [
    "product_exports = merged_df.groupby('Desagregación cultivo')['Producción (t)'].sum().reset_index()\n",
    "product_exports = product_exports.sort_values(by='Producción (t)', ascending=False)\n",
    "plt.figure(figsize=(12, 6))\n",
    "plt.bar(product_exports['Desagregación cultivo'].head(10), product_exports['Producción (t)'].head(10))\n",
    "plt.xticks(rotation=45, ha='right')\n",
    "plt.title('Los 10 principales productos exportados')\n",
    "plt.xlabel('Producto')\n",
    "plt.ylabel('Producción total (t)')\n",
    "plt.tight_layout()\n",
    "plt.show()"
   ]
  },
  {
   "cell_type": "markdown",
   "metadata": {
    "id": "kwXMsvOAYpYI"
   },
   "source": [
    "El análisis muestra los 10 principales municipios exportadores y los 10 principales productos exportados, estos gráficos de barras nos permiten visualizar claramente los municipios y productos con mayores cantidades de producción."
   ]
  },
  {
   "cell_type": "markdown",
   "metadata": {
    "id": "ArcY92dKOJ2h",
    "tags": []
   },
   "source": [
    "# Inversiones <a name=\"id18\"></a>\n",
    "---\n",
    "Se consultó el \"Tejido Empresarial de Colombia\" de ProColombia, el cual permite identificar las empresas con sede principal en el municipio identificadas como sucursal de sociedad extranjera en la base del RUES o de Supersociedades."
   ]
  },
  {
   "cell_type": "markdown",
   "metadata": {
    "id": "_oMVe65YOJ2h"
   },
   "source": [
    "# Turismo <a name=\"id19\"></a>\n",
    "---\n",
    "Se consultó el \"Tejido Empresarial de Colombia\" de ProColombia, el cual permite identificar las empresas con sede principal en el municipio relacionadas con actividades de turismo según su actividad económica principal."
   ]
  }
 ],
 "metadata": {
  "colab": {
   "provenance": []
  },
  "deepnote_execution_queue": [],
  "deepnote_notebook_id": "b5bbade3c4a9467db65256d2ea9bdc64",
  "kernelspec": {
   "display_name": "Python 3 (ipykernel)",
   "language": "python",
   "name": "python3"
  },
  "language_info": {
   "codemirror_mode": {
    "name": "ipython",
    "version": 3
   },
   "file_extension": ".py",
   "mimetype": "text/x-python",
   "name": "python",
   "nbconvert_exporter": "python",
   "pygments_lexer": "ipython3",
   "version": "3.11.7"
  }
 },
 "nbformat": 4,
 "nbformat_minor": 4
}
